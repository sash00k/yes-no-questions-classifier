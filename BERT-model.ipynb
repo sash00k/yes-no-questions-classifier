{
  "nbformat": 4,
  "nbformat_minor": 0,
  "metadata": {
    "colab": {
      "provenance": []
    },
    "kernelspec": {
      "name": "python3",
      "display_name": "Python 3"
    },
    "language_info": {
      "name": "python"
    },
    "accelerator": "GPU",
    "gpuClass": "standard",
    "widgets": {
      "application/vnd.jupyter.widget-state+json": {
        "ad8de091df894fea8e13697aff240661": {
          "model_module": "@jupyter-widgets/controls",
          "model_name": "HBoxModel",
          "model_module_version": "1.5.0",
          "state": {
            "_dom_classes": [],
            "_model_module": "@jupyter-widgets/controls",
            "_model_module_version": "1.5.0",
            "_model_name": "HBoxModel",
            "_view_count": null,
            "_view_module": "@jupyter-widgets/controls",
            "_view_module_version": "1.5.0",
            "_view_name": "HBoxView",
            "box_style": "",
            "children": [
              "IPY_MODEL_8dad22a61e6546c3ad43e21bdcb4c0db",
              "IPY_MODEL_d06e16b1257146dba06e53b3b2fa6ddb",
              "IPY_MODEL_b66c6d04a04643b68ce97deb4d4f79e4"
            ],
            "layout": "IPY_MODEL_717c90832ccd4bb194e400d9351385d1"
          }
        },
        "8dad22a61e6546c3ad43e21bdcb4c0db": {
          "model_module": "@jupyter-widgets/controls",
          "model_name": "HTMLModel",
          "model_module_version": "1.5.0",
          "state": {
            "_dom_classes": [],
            "_model_module": "@jupyter-widgets/controls",
            "_model_module_version": "1.5.0",
            "_model_name": "HTMLModel",
            "_view_count": null,
            "_view_module": "@jupyter-widgets/controls",
            "_view_module_version": "1.5.0",
            "_view_name": "HTMLView",
            "description": "",
            "description_tooltip": null,
            "layout": "IPY_MODEL_7a69d8ba1ae94fd988800cdc5acb9f15",
            "placeholder": "​",
            "style": "IPY_MODEL_4713ece884494e2ba5f0109fdafcdf91",
            "value": "100%"
          }
        },
        "d06e16b1257146dba06e53b3b2fa6ddb": {
          "model_module": "@jupyter-widgets/controls",
          "model_name": "FloatProgressModel",
          "model_module_version": "1.5.0",
          "state": {
            "_dom_classes": [],
            "_model_module": "@jupyter-widgets/controls",
            "_model_module_version": "1.5.0",
            "_model_name": "FloatProgressModel",
            "_view_count": null,
            "_view_module": "@jupyter-widgets/controls",
            "_view_module_version": "1.5.0",
            "_view_name": "ProgressView",
            "bar_style": "success",
            "description": "",
            "description_tooltip": null,
            "layout": "IPY_MODEL_36bc914eb884465e9a5089310932c831",
            "max": 9427,
            "min": 0,
            "orientation": "horizontal",
            "style": "IPY_MODEL_935f8ce81635478c9a06d7f34503d4b8",
            "value": 9427
          }
        },
        "b66c6d04a04643b68ce97deb4d4f79e4": {
          "model_module": "@jupyter-widgets/controls",
          "model_name": "HTMLModel",
          "model_module_version": "1.5.0",
          "state": {
            "_dom_classes": [],
            "_model_module": "@jupyter-widgets/controls",
            "_model_module_version": "1.5.0",
            "_model_name": "HTMLModel",
            "_view_count": null,
            "_view_module": "@jupyter-widgets/controls",
            "_view_module_version": "1.5.0",
            "_view_name": "HTMLView",
            "description": "",
            "description_tooltip": null,
            "layout": "IPY_MODEL_593db662a7d94efcb08eb2e137ff70c3",
            "placeholder": "​",
            "style": "IPY_MODEL_0d4591d290454a839bbe09349d2f585e",
            "value": " 9427/9427 [00:46&lt;00:00, 315.82it/s]"
          }
        },
        "717c90832ccd4bb194e400d9351385d1": {
          "model_module": "@jupyter-widgets/base",
          "model_name": "LayoutModel",
          "model_module_version": "1.2.0",
          "state": {
            "_model_module": "@jupyter-widgets/base",
            "_model_module_version": "1.2.0",
            "_model_name": "LayoutModel",
            "_view_count": null,
            "_view_module": "@jupyter-widgets/base",
            "_view_module_version": "1.2.0",
            "_view_name": "LayoutView",
            "align_content": null,
            "align_items": null,
            "align_self": null,
            "border": null,
            "bottom": null,
            "display": null,
            "flex": null,
            "flex_flow": null,
            "grid_area": null,
            "grid_auto_columns": null,
            "grid_auto_flow": null,
            "grid_auto_rows": null,
            "grid_column": null,
            "grid_gap": null,
            "grid_row": null,
            "grid_template_areas": null,
            "grid_template_columns": null,
            "grid_template_rows": null,
            "height": null,
            "justify_content": null,
            "justify_items": null,
            "left": null,
            "margin": null,
            "max_height": null,
            "max_width": null,
            "min_height": null,
            "min_width": null,
            "object_fit": null,
            "object_position": null,
            "order": null,
            "overflow": null,
            "overflow_x": null,
            "overflow_y": null,
            "padding": null,
            "right": null,
            "top": null,
            "visibility": null,
            "width": null
          }
        },
        "7a69d8ba1ae94fd988800cdc5acb9f15": {
          "model_module": "@jupyter-widgets/base",
          "model_name": "LayoutModel",
          "model_module_version": "1.2.0",
          "state": {
            "_model_module": "@jupyter-widgets/base",
            "_model_module_version": "1.2.0",
            "_model_name": "LayoutModel",
            "_view_count": null,
            "_view_module": "@jupyter-widgets/base",
            "_view_module_version": "1.2.0",
            "_view_name": "LayoutView",
            "align_content": null,
            "align_items": null,
            "align_self": null,
            "border": null,
            "bottom": null,
            "display": null,
            "flex": null,
            "flex_flow": null,
            "grid_area": null,
            "grid_auto_columns": null,
            "grid_auto_flow": null,
            "grid_auto_rows": null,
            "grid_column": null,
            "grid_gap": null,
            "grid_row": null,
            "grid_template_areas": null,
            "grid_template_columns": null,
            "grid_template_rows": null,
            "height": null,
            "justify_content": null,
            "justify_items": null,
            "left": null,
            "margin": null,
            "max_height": null,
            "max_width": null,
            "min_height": null,
            "min_width": null,
            "object_fit": null,
            "object_position": null,
            "order": null,
            "overflow": null,
            "overflow_x": null,
            "overflow_y": null,
            "padding": null,
            "right": null,
            "top": null,
            "visibility": null,
            "width": null
          }
        },
        "4713ece884494e2ba5f0109fdafcdf91": {
          "model_module": "@jupyter-widgets/controls",
          "model_name": "DescriptionStyleModel",
          "model_module_version": "1.5.0",
          "state": {
            "_model_module": "@jupyter-widgets/controls",
            "_model_module_version": "1.5.0",
            "_model_name": "DescriptionStyleModel",
            "_view_count": null,
            "_view_module": "@jupyter-widgets/base",
            "_view_module_version": "1.2.0",
            "_view_name": "StyleView",
            "description_width": ""
          }
        },
        "36bc914eb884465e9a5089310932c831": {
          "model_module": "@jupyter-widgets/base",
          "model_name": "LayoutModel",
          "model_module_version": "1.2.0",
          "state": {
            "_model_module": "@jupyter-widgets/base",
            "_model_module_version": "1.2.0",
            "_model_name": "LayoutModel",
            "_view_count": null,
            "_view_module": "@jupyter-widgets/base",
            "_view_module_version": "1.2.0",
            "_view_name": "LayoutView",
            "align_content": null,
            "align_items": null,
            "align_self": null,
            "border": null,
            "bottom": null,
            "display": null,
            "flex": null,
            "flex_flow": null,
            "grid_area": null,
            "grid_auto_columns": null,
            "grid_auto_flow": null,
            "grid_auto_rows": null,
            "grid_column": null,
            "grid_gap": null,
            "grid_row": null,
            "grid_template_areas": null,
            "grid_template_columns": null,
            "grid_template_rows": null,
            "height": null,
            "justify_content": null,
            "justify_items": null,
            "left": null,
            "margin": null,
            "max_height": null,
            "max_width": null,
            "min_height": null,
            "min_width": null,
            "object_fit": null,
            "object_position": null,
            "order": null,
            "overflow": null,
            "overflow_x": null,
            "overflow_y": null,
            "padding": null,
            "right": null,
            "top": null,
            "visibility": null,
            "width": null
          }
        },
        "935f8ce81635478c9a06d7f34503d4b8": {
          "model_module": "@jupyter-widgets/controls",
          "model_name": "ProgressStyleModel",
          "model_module_version": "1.5.0",
          "state": {
            "_model_module": "@jupyter-widgets/controls",
            "_model_module_version": "1.5.0",
            "_model_name": "ProgressStyleModel",
            "_view_count": null,
            "_view_module": "@jupyter-widgets/base",
            "_view_module_version": "1.2.0",
            "_view_name": "StyleView",
            "bar_color": null,
            "description_width": ""
          }
        },
        "593db662a7d94efcb08eb2e137ff70c3": {
          "model_module": "@jupyter-widgets/base",
          "model_name": "LayoutModel",
          "model_module_version": "1.2.0",
          "state": {
            "_model_module": "@jupyter-widgets/base",
            "_model_module_version": "1.2.0",
            "_model_name": "LayoutModel",
            "_view_count": null,
            "_view_module": "@jupyter-widgets/base",
            "_view_module_version": "1.2.0",
            "_view_name": "LayoutView",
            "align_content": null,
            "align_items": null,
            "align_self": null,
            "border": null,
            "bottom": null,
            "display": null,
            "flex": null,
            "flex_flow": null,
            "grid_area": null,
            "grid_auto_columns": null,
            "grid_auto_flow": null,
            "grid_auto_rows": null,
            "grid_column": null,
            "grid_gap": null,
            "grid_row": null,
            "grid_template_areas": null,
            "grid_template_columns": null,
            "grid_template_rows": null,
            "height": null,
            "justify_content": null,
            "justify_items": null,
            "left": null,
            "margin": null,
            "max_height": null,
            "max_width": null,
            "min_height": null,
            "min_width": null,
            "object_fit": null,
            "object_position": null,
            "order": null,
            "overflow": null,
            "overflow_x": null,
            "overflow_y": null,
            "padding": null,
            "right": null,
            "top": null,
            "visibility": null,
            "width": null
          }
        },
        "0d4591d290454a839bbe09349d2f585e": {
          "model_module": "@jupyter-widgets/controls",
          "model_name": "DescriptionStyleModel",
          "model_module_version": "1.5.0",
          "state": {
            "_model_module": "@jupyter-widgets/controls",
            "_model_module_version": "1.5.0",
            "_model_name": "DescriptionStyleModel",
            "_view_count": null,
            "_view_module": "@jupyter-widgets/base",
            "_view_module_version": "1.2.0",
            "_view_name": "StyleView",
            "description_width": ""
          }
        },
        "84168e2bad8145398d6e4d7c53691ad2": {
          "model_module": "@jupyter-widgets/controls",
          "model_name": "HBoxModel",
          "model_module_version": "1.5.0",
          "state": {
            "_dom_classes": [],
            "_model_module": "@jupyter-widgets/controls",
            "_model_module_version": "1.5.0",
            "_model_name": "HBoxModel",
            "_view_count": null,
            "_view_module": "@jupyter-widgets/controls",
            "_view_module_version": "1.5.0",
            "_view_name": "HBoxView",
            "box_style": "",
            "children": [
              "IPY_MODEL_f97f22eb65174329ba55a6d4baad0f04",
              "IPY_MODEL_38eea9b2cf894825856d20325597efaa",
              "IPY_MODEL_2647535a229a47349e3dae9456cc3f41"
            ],
            "layout": "IPY_MODEL_5be0bd046879401abc4c451b2b5a40e8"
          }
        },
        "f97f22eb65174329ba55a6d4baad0f04": {
          "model_module": "@jupyter-widgets/controls",
          "model_name": "HTMLModel",
          "model_module_version": "1.5.0",
          "state": {
            "_dom_classes": [],
            "_model_module": "@jupyter-widgets/controls",
            "_model_module_version": "1.5.0",
            "_model_name": "HTMLModel",
            "_view_count": null,
            "_view_module": "@jupyter-widgets/controls",
            "_view_module_version": "1.5.0",
            "_view_name": "HTMLView",
            "description": "",
            "description_tooltip": null,
            "layout": "IPY_MODEL_8dcca3c113dd40258b396eaa030f4624",
            "placeholder": "​",
            "style": "IPY_MODEL_4476b165de9d449c951e2601e26f46a4",
            "value": "100%"
          }
        },
        "38eea9b2cf894825856d20325597efaa": {
          "model_module": "@jupyter-widgets/controls",
          "model_name": "FloatProgressModel",
          "model_module_version": "1.5.0",
          "state": {
            "_dom_classes": [],
            "_model_module": "@jupyter-widgets/controls",
            "_model_module_version": "1.5.0",
            "_model_name": "FloatProgressModel",
            "_view_count": null,
            "_view_module": "@jupyter-widgets/controls",
            "_view_module_version": "1.5.0",
            "_view_name": "ProgressView",
            "bar_style": "success",
            "description": "",
            "description_tooltip": null,
            "layout": "IPY_MODEL_7d4de6b0e3104e3e90b50226f33aec51",
            "max": 3270,
            "min": 0,
            "orientation": "horizontal",
            "style": "IPY_MODEL_84713709c69c45d493580febfeeed142",
            "value": 3270
          }
        },
        "2647535a229a47349e3dae9456cc3f41": {
          "model_module": "@jupyter-widgets/controls",
          "model_name": "HTMLModel",
          "model_module_version": "1.5.0",
          "state": {
            "_dom_classes": [],
            "_model_module": "@jupyter-widgets/controls",
            "_model_module_version": "1.5.0",
            "_model_name": "HTMLModel",
            "_view_count": null,
            "_view_module": "@jupyter-widgets/controls",
            "_view_module_version": "1.5.0",
            "_view_name": "HTMLView",
            "description": "",
            "description_tooltip": null,
            "layout": "IPY_MODEL_ad46f86d74c44facb06e61ebde4c3b5d",
            "placeholder": "​",
            "style": "IPY_MODEL_624352dcaf21443cad9200e7d03b921c",
            "value": " 3270/3270 [00:10&lt;00:00, 321.51it/s]"
          }
        },
        "5be0bd046879401abc4c451b2b5a40e8": {
          "model_module": "@jupyter-widgets/base",
          "model_name": "LayoutModel",
          "model_module_version": "1.2.0",
          "state": {
            "_model_module": "@jupyter-widgets/base",
            "_model_module_version": "1.2.0",
            "_model_name": "LayoutModel",
            "_view_count": null,
            "_view_module": "@jupyter-widgets/base",
            "_view_module_version": "1.2.0",
            "_view_name": "LayoutView",
            "align_content": null,
            "align_items": null,
            "align_self": null,
            "border": null,
            "bottom": null,
            "display": null,
            "flex": null,
            "flex_flow": null,
            "grid_area": null,
            "grid_auto_columns": null,
            "grid_auto_flow": null,
            "grid_auto_rows": null,
            "grid_column": null,
            "grid_gap": null,
            "grid_row": null,
            "grid_template_areas": null,
            "grid_template_columns": null,
            "grid_template_rows": null,
            "height": null,
            "justify_content": null,
            "justify_items": null,
            "left": null,
            "margin": null,
            "max_height": null,
            "max_width": null,
            "min_height": null,
            "min_width": null,
            "object_fit": null,
            "object_position": null,
            "order": null,
            "overflow": null,
            "overflow_x": null,
            "overflow_y": null,
            "padding": null,
            "right": null,
            "top": null,
            "visibility": null,
            "width": null
          }
        },
        "8dcca3c113dd40258b396eaa030f4624": {
          "model_module": "@jupyter-widgets/base",
          "model_name": "LayoutModel",
          "model_module_version": "1.2.0",
          "state": {
            "_model_module": "@jupyter-widgets/base",
            "_model_module_version": "1.2.0",
            "_model_name": "LayoutModel",
            "_view_count": null,
            "_view_module": "@jupyter-widgets/base",
            "_view_module_version": "1.2.0",
            "_view_name": "LayoutView",
            "align_content": null,
            "align_items": null,
            "align_self": null,
            "border": null,
            "bottom": null,
            "display": null,
            "flex": null,
            "flex_flow": null,
            "grid_area": null,
            "grid_auto_columns": null,
            "grid_auto_flow": null,
            "grid_auto_rows": null,
            "grid_column": null,
            "grid_gap": null,
            "grid_row": null,
            "grid_template_areas": null,
            "grid_template_columns": null,
            "grid_template_rows": null,
            "height": null,
            "justify_content": null,
            "justify_items": null,
            "left": null,
            "margin": null,
            "max_height": null,
            "max_width": null,
            "min_height": null,
            "min_width": null,
            "object_fit": null,
            "object_position": null,
            "order": null,
            "overflow": null,
            "overflow_x": null,
            "overflow_y": null,
            "padding": null,
            "right": null,
            "top": null,
            "visibility": null,
            "width": null
          }
        },
        "4476b165de9d449c951e2601e26f46a4": {
          "model_module": "@jupyter-widgets/controls",
          "model_name": "DescriptionStyleModel",
          "model_module_version": "1.5.0",
          "state": {
            "_model_module": "@jupyter-widgets/controls",
            "_model_module_version": "1.5.0",
            "_model_name": "DescriptionStyleModel",
            "_view_count": null,
            "_view_module": "@jupyter-widgets/base",
            "_view_module_version": "1.2.0",
            "_view_name": "StyleView",
            "description_width": ""
          }
        },
        "7d4de6b0e3104e3e90b50226f33aec51": {
          "model_module": "@jupyter-widgets/base",
          "model_name": "LayoutModel",
          "model_module_version": "1.2.0",
          "state": {
            "_model_module": "@jupyter-widgets/base",
            "_model_module_version": "1.2.0",
            "_model_name": "LayoutModel",
            "_view_count": null,
            "_view_module": "@jupyter-widgets/base",
            "_view_module_version": "1.2.0",
            "_view_name": "LayoutView",
            "align_content": null,
            "align_items": null,
            "align_self": null,
            "border": null,
            "bottom": null,
            "display": null,
            "flex": null,
            "flex_flow": null,
            "grid_area": null,
            "grid_auto_columns": null,
            "grid_auto_flow": null,
            "grid_auto_rows": null,
            "grid_column": null,
            "grid_gap": null,
            "grid_row": null,
            "grid_template_areas": null,
            "grid_template_columns": null,
            "grid_template_rows": null,
            "height": null,
            "justify_content": null,
            "justify_items": null,
            "left": null,
            "margin": null,
            "max_height": null,
            "max_width": null,
            "min_height": null,
            "min_width": null,
            "object_fit": null,
            "object_position": null,
            "order": null,
            "overflow": null,
            "overflow_x": null,
            "overflow_y": null,
            "padding": null,
            "right": null,
            "top": null,
            "visibility": null,
            "width": null
          }
        },
        "84713709c69c45d493580febfeeed142": {
          "model_module": "@jupyter-widgets/controls",
          "model_name": "ProgressStyleModel",
          "model_module_version": "1.5.0",
          "state": {
            "_model_module": "@jupyter-widgets/controls",
            "_model_module_version": "1.5.0",
            "_model_name": "ProgressStyleModel",
            "_view_count": null,
            "_view_module": "@jupyter-widgets/base",
            "_view_module_version": "1.2.0",
            "_view_name": "StyleView",
            "bar_color": null,
            "description_width": ""
          }
        },
        "ad46f86d74c44facb06e61ebde4c3b5d": {
          "model_module": "@jupyter-widgets/base",
          "model_name": "LayoutModel",
          "model_module_version": "1.2.0",
          "state": {
            "_model_module": "@jupyter-widgets/base",
            "_model_module_version": "1.2.0",
            "_model_name": "LayoutModel",
            "_view_count": null,
            "_view_module": "@jupyter-widgets/base",
            "_view_module_version": "1.2.0",
            "_view_name": "LayoutView",
            "align_content": null,
            "align_items": null,
            "align_self": null,
            "border": null,
            "bottom": null,
            "display": null,
            "flex": null,
            "flex_flow": null,
            "grid_area": null,
            "grid_auto_columns": null,
            "grid_auto_flow": null,
            "grid_auto_rows": null,
            "grid_column": null,
            "grid_gap": null,
            "grid_row": null,
            "grid_template_areas": null,
            "grid_template_columns": null,
            "grid_template_rows": null,
            "height": null,
            "justify_content": null,
            "justify_items": null,
            "left": null,
            "margin": null,
            "max_height": null,
            "max_width": null,
            "min_height": null,
            "min_width": null,
            "object_fit": null,
            "object_position": null,
            "order": null,
            "overflow": null,
            "overflow_x": null,
            "overflow_y": null,
            "padding": null,
            "right": null,
            "top": null,
            "visibility": null,
            "width": null
          }
        },
        "624352dcaf21443cad9200e7d03b921c": {
          "model_module": "@jupyter-widgets/controls",
          "model_name": "DescriptionStyleModel",
          "model_module_version": "1.5.0",
          "state": {
            "_model_module": "@jupyter-widgets/controls",
            "_model_module_version": "1.5.0",
            "_model_name": "DescriptionStyleModel",
            "_view_count": null,
            "_view_module": "@jupyter-widgets/base",
            "_view_module_version": "1.2.0",
            "_view_name": "StyleView",
            "description_width": ""
          }
        }
      }
    }
  },
  "cells": [
    {
      "cell_type": "markdown",
      "source": [
        "IMPORTANT (for Google Colab): `Runtime` 🡒 `Change runtime type` 🡒 `Hardware accelerator` 🡒 `(GPU)`"
      ],
      "metadata": {
        "id": "O4njQHbGjSFG"
      }
    },
    {
      "cell_type": "code",
      "execution_count": null,
      "metadata": {
        "id": "YNhn5JSejPTf"
      },
      "outputs": [],
      "source": [
        "%%capture\n",
        "import pandas as pd\n",
        "import seaborn as sns\n",
        "import numpy as np\n",
        "import matplotlib.pyplot as plt\n",
        "import random\n",
        "import time\n",
        "from time import gmtime, strftime\n",
        "\n",
        "!pip install transformers\n",
        "from transformers import BertTokenizer\n",
        "\n",
        "import torch\n",
        "device = torch.device('cuda')\n",
        "\n",
        "# it's for apply progress bar\n",
        "from tqdm.auto import tqdm \n",
        "tqdm.pandas()\n",
        "\n",
        "import warnings\n",
        "warnings.filterwarnings('ignore')"
      ]
    },
    {
      "cell_type": "code",
      "source": [
        "# global vars for changing them and finding the optimal ones\n",
        "MAX_LENGTH = 128\n",
        "BATCH_SIZE = 16\n",
        "LEARNING_RATE = 3e-05\n",
        "EPOCHS_NUM = 2"
      ],
      "metadata": {
        "id": "No5TGQQEP_52"
      },
      "execution_count": null,
      "outputs": []
    },
    {
      "cell_type": "code",
      "source": [
        "# set the seed value all over the place to make this reproducible\n",
        "SEED = 42\n",
        "\n",
        "random.seed(SEED)\n",
        "np.random.seed(SEED)\n",
        "torch.manual_seed(SEED)\n",
        "torch.cuda.manual_seed_all(SEED)"
      ],
      "metadata": {
        "id": "RGIcXNFQ1Po7"
      },
      "execution_count": null,
      "outputs": []
    },
    {
      "cell_type": "code",
      "source": [
        "# google drive mounting\n",
        "from google.colab import drive\n",
        "drive.mount('/content/drive')\n",
        "\n",
        "df = pd.read_json('./drive/MyDrive/nlp/train.jsonl', lines=True)"
      ],
      "metadata": {
        "id": "uqluLZCkk_0T",
        "colab": {
          "base_uri": "https://localhost:8080/"
        },
        "outputId": "79882598-62d3-428a-cf49-0f878b346744"
      },
      "execution_count": null,
      "outputs": [
        {
          "output_type": "stream",
          "name": "stdout",
          "text": [
            "Drive already mounted at /content/drive; to attempt to forcibly remount, call drive.mount(\"/content/drive\", force_remount=True).\n"
          ]
        }
      ]
    },
    {
      "cell_type": "code",
      "source": [
        "%%capture\n",
        "tokenizer = BertTokenizer.from_pretrained('bert-base-uncased')"
      ],
      "metadata": {
        "id": "vCkKAGH3molC"
      },
      "execution_count": null,
      "outputs": []
    },
    {
      "cell_type": "markdown",
      "source": [
        "Called below `encode_plus` will do all for preparing data:\n",
        "\n",
        "* Tokenize the sentence (both at the same time)\n",
        "* Prepend the `[CLS]` token to the start\n",
        "* Append the `[SEP]` token to the end\n",
        "* Put `[SEP]` between question and passage\n",
        "* Map tokens to their IDs\n",
        "* Pad or truncate the sentence to `max_length`\n",
        "* Create attention masks for `[PAD]` tokens (considering that we have two sentences in `tokens`)\n"
      ],
      "metadata": {
        "id": "gH9PEyEeL4G1"
      }
    },
    {
      "cell_type": "code",
      "source": [
        "# preparing data for BERT model\n",
        "df['encoded_dict'] = df.progress_apply(lambda x: tokenizer.encode_plus(\n",
        "                                                 text = x['question'],         # 1st sentence to encode\n",
        "                                                 text_pair = x['passage'],     # 2nd sentence to encode\n",
        "                                                 add_special_tokens = True,    # add '[CLS]' and '[SEP]'\n",
        "                                                 max_length = MAX_LENGTH,      # pad & truncate all sentences\n",
        "                                                 pad_to_max_length = True,\n",
        "                                                 return_attention_mask = True, # construct attention masks\n",
        "                                                 return_tensors = 'pt'         # return pytorch tensors\n",
        "                                                 ), axis=1)"
      ],
      "metadata": {
        "colab": {
          "base_uri": "https://localhost:8080/",
          "height": 49,
          "referenced_widgets": [
            "ad8de091df894fea8e13697aff240661",
            "8dad22a61e6546c3ad43e21bdcb4c0db",
            "d06e16b1257146dba06e53b3b2fa6ddb",
            "b66c6d04a04643b68ce97deb4d4f79e4",
            "717c90832ccd4bb194e400d9351385d1",
            "7a69d8ba1ae94fd988800cdc5acb9f15",
            "4713ece884494e2ba5f0109fdafcdf91",
            "36bc914eb884465e9a5089310932c831",
            "935f8ce81635478c9a06d7f34503d4b8",
            "593db662a7d94efcb08eb2e137ff70c3",
            "0d4591d290454a839bbe09349d2f585e"
          ]
        },
        "id": "O5vlb9L0CbyT",
        "outputId": "833e7907-6a46-4f4e-9859-5a373680ed61"
      },
      "execution_count": null,
      "outputs": [
        {
          "output_type": "display_data",
          "data": {
            "text/plain": [
              "  0%|          | 0/9427 [00:00<?, ?it/s]"
            ],
            "application/vnd.jupyter.widget-view+json": {
              "version_major": 2,
              "version_minor": 0,
              "model_id": "ad8de091df894fea8e13697aff240661"
            }
          },
          "metadata": {}
        }
      ]
    },
    {
      "cell_type": "code",
      "source": [
        "# extracting useful features from the dictionary\n",
        "df['input_ids'] = df['encoded_dict'].apply(lambda x: x['input_ids'])\n",
        "df['attention_mask'] = df['encoded_dict'].apply(lambda x: x['attention_mask'])"
      ],
      "metadata": {
        "id": "Hjw7qW2GDTmd"
      },
      "execution_count": null,
      "outputs": []
    },
    {
      "cell_type": "code",
      "source": [
        "# BERT needs integer numbers as classification marks \n",
        "df['label'] = df['label'].apply(int)"
      ],
      "metadata": {
        "id": "yzvEhpaR_uAp"
      },
      "execution_count": null,
      "outputs": []
    },
    {
      "cell_type": "code",
      "source": [
        "# transformation the data to tensor form for further putting it into the model\n",
        "input_ids_tf = torch.cat(list(df['input_ids']), dim=0)\n",
        "attention_masks_tf = torch.cat(list(df['attention_mask'].values), dim=0)\n",
        "labels_tf = torch.tensor(list(df['label']))"
      ],
      "metadata": {
        "id": "q_GzPYix-o_9"
      },
      "execution_count": null,
      "outputs": []
    },
    {
      "cell_type": "markdown",
      "source": [
        "Randomized splitting data into training and validation parts. "
      ],
      "metadata": {
        "id": "pW06CuMoRmrU"
      }
    },
    {
      "cell_type": "code",
      "source": [
        "from torch.utils.data import TensorDataset, random_split\n",
        "\n",
        "# combine the training inputs into a TensorDataset\n",
        "dataset = TensorDataset(input_ids_tf, attention_masks_tf, labels_tf)\n",
        "\n",
        "# calculating sizes of train/val sets\n",
        "train_size = int(.9 * len(dataset))\n",
        "val_size = len(dataset) - train_size\n",
        "\n",
        "# divide the dataset by randomly selecting samples\n",
        "train_df, val_df = random_split(dataset, [train_size, val_size])\n",
        "\n",
        "print(f'training size is {train_size}')\n",
        "print(f'validation size is {val_size}')"
      ],
      "metadata": {
        "colab": {
          "base_uri": "https://localhost:8080/"
        },
        "id": "sRREuXRLOLwv",
        "outputId": "c06e2cbe-fd59-432e-9b8a-19813faa4e96"
      },
      "execution_count": null,
      "outputs": [
        {
          "output_type": "stream",
          "name": "stdout",
          "text": [
            "training size is 8484\n",
            "validation size is 943\n"
          ]
        }
      ]
    },
    {
      "cell_type": "markdown",
      "source": [
        "Since the training process does not use the whole dataset, but only batches from it, for saving speed and memory, we create DataLoader-objects that will help us to use exactly as much memory as we need."
      ],
      "metadata": {
        "id": "XDG6C0pzSUOX"
      }
    },
    {
      "cell_type": "code",
      "source": [
        "from torch.utils.data import DataLoader, RandomSampler\n",
        "\n",
        "# the DataLoader needs to know our batch size for training, so we specify it here for fine-tuning BERT on\n",
        "# a specific task, the authors recommend a batch size of 16 or 32\n",
        "batch_size = BATCH_SIZE\n",
        "\n",
        "# creatinh the DataLoaders for our training and validation sets, we'll take samples randomly\n",
        "train_dataloader = DataLoader(\n",
        "                     train_df,                          # the training samples\n",
        "                     sampler = RandomSampler(train_df), # select batches randomly\n",
        "                     batch_size = batch_size)           # trains with this batch size\n",
        "        \n",
        "val_dataloader = DataLoader(\n",
        "                     val_df,                            # the validation samples\n",
        "                     sampler = RandomSampler(val_df),   # pull out batches sequentially\n",
        "                     batch_size = batch_size)           # evaluate with this batch size"
      ],
      "metadata": {
        "id": "W8UU9k5hPaoI"
      },
      "execution_count": null,
      "outputs": []
    },
    {
      "cell_type": "markdown",
      "source": [
        "Here we're gonna load BertForSequenceClassification, the pretrained BERT model with a single linear classification layer on top. And we'll use here this model but not BertForQuestionAnswering, for example, because of we are not interested in a complex answer to question. In essence, we just need to classify Boolean sequences of indexes that already contain information from the question and passage at the same time. "
      ],
      "metadata": {
        "id": "EB9uQkGHKq89"
      }
    },
    {
      "cell_type": "code",
      "source": [
        "from transformers import BertForSequenceClassification, BertConfig\n",
        "\n",
        "model = BertForSequenceClassification.from_pretrained(\n",
        "        'bert-base-uncased',          # choosing the 12-layer BERT model\n",
        "        num_labels = 2,               # the number of output labels is 2   \n",
        "        output_attentions = False,    # whether the model returns attentions weights\n",
        "        output_hidden_states = False, # whether the model returns all hidden-states\n",
        ")"
      ],
      "metadata": {
        "id": "RuJr4-TjJU04"
      },
      "execution_count": null,
      "outputs": []
    },
    {
      "cell_type": "code",
      "source": [
        "%%capture\n",
        "\n",
        "# tell pytorch to run this model on the GPU.\n",
        "model.cuda()"
      ],
      "metadata": {
        "id": "1jHBY_1OLmfn"
      },
      "execution_count": null,
      "outputs": []
    },
    {
      "cell_type": "markdown",
      "source": [
        "The authors of the article on the fine-tuning of the BERT model recommend to take huperparameters from the following list:\n",
        "* `batch size`: 16, 32\n",
        "* `learning rate`: 5e-5, 3e-5, 2e-5\n",
        "* `number of epochs`: 2, 3, 4\n",
        "\n",
        "Below we just initialize the things needed to create a training loop. More about them by the links mentioned in the source article."
      ],
      "metadata": {
        "id": "pueNQfqpTRUO"
      }
    },
    {
      "cell_type": "code",
      "source": [
        "from transformers import get_linear_schedule_with_warmup, AdamW\n",
        "\n",
        "optimizer = AdamW(model.parameters(),\n",
        "                  lr = LEARNING_RATE)  # args.learning_rate - default is 5e-5\n",
        "\n",
        "epochs_num = EPOCHS_NUM\n",
        "\n",
        "# total number of training steps is [number of batches] x [number of epochs]\n",
        "total_steps = len(train_dataloader) * epochs_num\n",
        "\n",
        "# create the learning rate scheduler\n",
        "scheduler = get_linear_schedule_with_warmup(optimizer, \n",
        "                                            num_warmup_steps = 0, # default value in run_glue.py (more in source)\n",
        "                                            num_training_steps = total_steps)"
      ],
      "metadata": {
        "id": "Tq6nAKhfWAhu"
      },
      "execution_count": null,
      "outputs": []
    },
    {
      "cell_type": "code",
      "source": [
        "# helping function to calculate the accuracy of our predictions vs labels\n",
        "def flat_accuracy(preds, labels):\n",
        "    pred_flat = np.argmax(preds, axis=1).flatten()\n",
        "    labels_flat = labels.flatten()\n",
        "    return np.sum(pred_flat == labels_flat) / len(labels_flat)"
      ],
      "metadata": {
        "id": "LwBfK7LA2tye"
      },
      "execution_count": null,
      "outputs": []
    },
    {
      "cell_type": "markdown",
      "source": [
        "# Plan for our training loop:\n",
        "Training:\n",
        "\n",
        "* Unpack our data inputs and labels\n",
        "* Load data onto the GPU for acceleration\n",
        "* Clear out the gradients calculated in the previous pass\n",
        "* Forward pass (feed input data through the network)\n",
        "* Backward pass (backpropagation)\n",
        "* Tell the network to update parameters with optimizer.step()\n",
        "* Track variables for monitoring progress\n",
        "\n",
        "Evalution:\n",
        "\n",
        "* Unpack our data inputs and labels\n",
        "* Load data onto the GPU for acceleration\n",
        "* Forward pass (feed input data through the network)\n",
        "* Compute loss on our validation data and track variables for monitoring progress"
      ],
      "metadata": {
        "id": "lG6JAglCVg48"
      }
    },
    {
      "cell_type": "code",
      "source": [
        "# we'll store a number of quantities such as training and validation loss, validation accuracy, and timings\n",
        "training_stats = []\n",
        "\n",
        "# measure the total training time for the whole run\n",
        "total_t0 = time.time()\n",
        "\n",
        "# for each epoch ...\n",
        "for epoch_i in range(epochs_num):\n",
        "    \n",
        "    ## TRAINING PART\n",
        "\n",
        "    print(f'EPOCH {epoch_i+1}/{epochs_num}:')\n",
        "    print('  Training...')\n",
        "\n",
        "    # measure how long the training epoch takes.\n",
        "    t0 = time.time()\n",
        "\n",
        "    # reset the total loss for this epoch.\n",
        "    total_train_loss = 0\n",
        "\n",
        "    # put the model into training mode, the call to `train` just changes the *mode*, it doesn't *perform* the training\n",
        "    model.train()\n",
        "\n",
        "    # for each batch of training data ...\n",
        "    for step, batch in enumerate(train_dataloader):\n",
        "\n",
        "        # progress update every 40 batches\n",
        "        if step % 40 == 0 and not step == 0:\n",
        "            # calculate elapsed time in minutes\n",
        "            elapsed = strftime('%H:%M:%S', gmtime((time.time() - t0)))\n",
        "            \n",
        "            # report progress\n",
        "            print(f'    batch {step:>3,} of {len(train_dataloader):>3,} - elapsed: {elapsed}')\n",
        "\n",
        "        # batch contains three pytorch tensors: [0] - input ids, [1] - attention masks, [2]-  labels;\n",
        "        # as we unpack the batch, we'll also copy each tensor to the GPU using the 'to' method\n",
        "        b_input_ids = batch[0].to(device)\n",
        "        b_input_mask = batch[1].to(device)\n",
        "        b_labels = batch[2].to(device)\n",
        "\n",
        "        # always clear any previously calculated gradients before performing a backward pass\n",
        "        model.zero_grad()\n",
        "\n",
        "        # performing a forward pass (evaluate the model on this training batch), it returns \n",
        "        # the loss (because we provided labels) and the 'logits' - the model outputs prior to activation\n",
        "        #\n",
        "        # in common case 'model' returns different parameters depending on what arguments are given and what flags are set:\n",
        "        # https://huggingface.co/transformers/v2.2.0/model_doc/bert.html#transformers.BertForSequenceClassification\n",
        "        loss, logits = model(b_input_ids, \n",
        "                             token_type_ids=None, \n",
        "                             attention_mask=b_input_mask, \n",
        "                             labels=b_labels).to_tuple()\n",
        "\n",
        "        # accumulating the training loss over all of the batches so that we can calculate the average loss at the end;\n",
        "        # loss is a tensor containing a single value, and we get it using item()\n",
        "        total_train_loss += loss.item()\n",
        "\n",
        "        # perform a backward pass to calculate the gradients\n",
        "        loss.backward()\n",
        "\n",
        "        # gradients normalizing to prevent the 'exploding gradients' problem\n",
        "        torch.nn.utils.clip_grad_norm_(model.parameters(), 1.0)\n",
        "\n",
        "        # update parameters and take a step using the computed gradient\n",
        "        optimizer.step()\n",
        "\n",
        "        # update the learning rate\n",
        "        scheduler.step()\n",
        "\n",
        "    # calculate the average loss over all of the batches\n",
        "    avg_train_loss = total_train_loss / len(train_dataloader)            \n",
        "    \n",
        "    # measure how long this epoch took\n",
        "    training_time = strftime('%H:%M:%S', gmtime((time.time() - t0)))\n",
        "\n",
        "    print(f'\\n    average training loss: {avg_train_loss:.2}')\n",
        "    print('    training epcoh took: ' + training_time)\n",
        "        \n",
        "    ## VALIDATION PART\n",
        "\n",
        "    # after the completion of each training epoch, measure our performance on our validation set\n",
        "    print('\\n  Validation...')\n",
        "\n",
        "    t0 = time.time()\n",
        "\n",
        "    # put the model in evaluation mode: the dropout layers behave differently during evaluation\n",
        "    model.eval()\n",
        "\n",
        "    # tracking variables \n",
        "    total_eval_accuracy = 0\n",
        "    total_eval_loss = 0\n",
        "    nb_eval_steps = 0\n",
        "\n",
        "    # evaluate data for one epoch\n",
        "    for batch in val_dataloader:\n",
        "        \n",
        "        # batch contains three pytorch tensors: [0] - input ids, [1] - attention masks, [2]-  labels;\n",
        "        # as we unpack the batch, we'll also copy each tensor to the GPU using the 'to' method\n",
        "        b_input_ids = batch[0].to(device)\n",
        "        b_input_mask = batch[1].to(device)\n",
        "        b_labels = batch[2].to(device)\n",
        "        \n",
        "        # tell pytorch not to compute gradient during the forward pass (we don't need back propagation now)\n",
        "        with torch.no_grad():        \n",
        "\n",
        "            # forward pass, calculate logit predictions;\n",
        "            # the 'logits' are the output values prior to applying an activation function like the softmax\n",
        "            loss, logits = model(b_input_ids, \n",
        "                                 token_type_ids=None, \n",
        "                                 attention_mask=b_input_mask,\n",
        "                                 labels=b_labels).to_tuple()\n",
        "            \n",
        "        # accumulate the validation loss\n",
        "        total_eval_loss += loss.item()\n",
        "\n",
        "        # move logits and labels to CPU\n",
        "        logits = logits.detach().cpu().numpy()\n",
        "        label_ids = b_labels.to('cpu').numpy()\n",
        "\n",
        "        # calculate the accuracy for this batch of test sentences, and accumulate it over all batches\n",
        "        # total_eval_accuracy += accuracy_score(label_ids, logits)\n",
        "        total_eval_accuracy += flat_accuracy(logits, label_ids)\n",
        "        \n",
        "\n",
        "    # report the final accuracy for this validation run\n",
        "    avg_val_accuracy = total_eval_accuracy / len(val_dataloader)\n",
        "    print(f'    accuracy: {avg_val_accuracy:.2f}')\n",
        "\n",
        "    # calculate the average loss over all of the batches\n",
        "    avg_val_loss = total_eval_loss / len(val_dataloader)\n",
        "    \n",
        "    # measure how long the validation run took\n",
        "    validation_time = strftime('%H:%M:%S', gmtime((time.time() - t0)))\n",
        "    \n",
        "    print(f'    validation loss: {avg_val_loss:.2f}')\n",
        "    print('    validation took: ' + validation_time + '\\n')\n",
        "\n",
        "    # record all statistics from this epoch\n",
        "    training_stats.append({'epoch': epoch_i + 1,\n",
        "                           'train loss': avg_train_loss,\n",
        "                           'valid loss': avg_val_loss,\n",
        "                           'valid accur': avg_val_accuracy,\n",
        "                           'training time': training_time,\n",
        "                           'validation time': validation_time})\n",
        "\n",
        "print('\\n  training complete')\n",
        "print('  total training took '+strftime('%H:%M:%S', gmtime(time.time() - total_t0))+' (h:mm:ss)')"
      ],
      "metadata": {
        "id": "se9gsoDKZJsk",
        "colab": {
          "base_uri": "https://localhost:8080/"
        },
        "outputId": "e6484271-421a-4945-d28c-ac8c9bd95e3e"
      },
      "execution_count": null,
      "outputs": [
        {
          "output_type": "stream",
          "name": "stdout",
          "text": [
            "EPOCH 1/2:\n",
            "  Training...\n",
            "    batch  40 of 531 - elapsed: 00:00:13\n",
            "    batch  80 of 531 - elapsed: 00:00:27\n",
            "    batch 120 of 531 - elapsed: 00:00:41\n",
            "    batch 160 of 531 - elapsed: 00:00:55\n",
            "    batch 200 of 531 - elapsed: 00:01:09\n",
            "    batch 240 of 531 - elapsed: 00:01:24\n",
            "    batch 280 of 531 - elapsed: 00:01:38\n",
            "    batch 320 of 531 - elapsed: 00:01:53\n",
            "    batch 360 of 531 - elapsed: 00:02:07\n",
            "    batch 400 of 531 - elapsed: 00:02:21\n",
            "    batch 440 of 531 - elapsed: 00:02:36\n",
            "    batch 480 of 531 - elapsed: 00:02:50\n",
            "    batch 520 of 531 - elapsed: 00:03:05\n",
            "\n",
            "    average training loss: 0.64\n",
            "    training epcoh took: 00:03:08\n",
            "\n",
            "  Validation...\n",
            "    accuracy: 0.70\n",
            "    validation loss: 0.57\n",
            "    validation took: 00:00:06\n",
            "\n",
            "EPOCH 2/2:\n",
            "  Training...\n",
            "    batch  40 of 531 - elapsed: 00:00:14\n",
            "    batch  80 of 531 - elapsed: 00:00:28\n",
            "    batch 120 of 531 - elapsed: 00:00:43\n",
            "    batch 160 of 531 - elapsed: 00:00:57\n",
            "    batch 200 of 531 - elapsed: 00:01:11\n",
            "    batch 240 of 531 - elapsed: 00:01:26\n",
            "    batch 280 of 531 - elapsed: 00:01:40\n",
            "    batch 320 of 531 - elapsed: 00:01:54\n",
            "    batch 360 of 531 - elapsed: 00:02:09\n",
            "    batch 400 of 531 - elapsed: 00:02:23\n",
            "    batch 440 of 531 - elapsed: 00:02:38\n",
            "    batch 480 of 531 - elapsed: 00:02:52\n",
            "    batch 520 of 531 - elapsed: 00:03:06\n",
            "\n",
            "    average training loss: 0.51\n",
            "    training epcoh took: 00:03:10\n",
            "\n",
            "  Validation...\n",
            "    accuracy: 0.73\n",
            "    validation loss: 0.55\n",
            "    validation took: 00:00:06\n",
            "\n",
            "\n",
            "  training complete\n",
            "  total training took 00:06:33 (h:mm:ss)\n"
          ]
        }
      ]
    },
    {
      "cell_type": "code",
      "source": [
        "# the summary of the training process\n",
        "pd.set_option('precision', 5)\n",
        "df_stats = pd.DataFrame(data=training_stats)\n",
        "df_stats = df_stats.set_index('epoch')\n",
        "df_stats"
      ],
      "metadata": {
        "id": "JClHZRnnAlgW",
        "colab": {
          "base_uri": "https://localhost:8080/",
          "height": 143
        },
        "outputId": "14f54ab3-84fc-4922-95fe-2e951837ec0f"
      },
      "execution_count": null,
      "outputs": [
        {
          "output_type": "execute_result",
          "data": {
            "text/plain": [
              "       train loss  valid loss  valid accur training time validation time\n",
              "epoch                                                                   \n",
              "1         0.64043     0.56962      0.70085      00:03:08        00:00:06\n",
              "2         0.51385     0.54758      0.73044      00:03:10        00:00:06"
            ],
            "text/html": [
              "\n",
              "  <div id=\"df-bfb5eaba-f2e6-4e5f-9d33-71501799fda0\">\n",
              "    <div class=\"colab-df-container\">\n",
              "      <div>\n",
              "<style scoped>\n",
              "    .dataframe tbody tr th:only-of-type {\n",
              "        vertical-align: middle;\n",
              "    }\n",
              "\n",
              "    .dataframe tbody tr th {\n",
              "        vertical-align: top;\n",
              "    }\n",
              "\n",
              "    .dataframe thead th {\n",
              "        text-align: right;\n",
              "    }\n",
              "</style>\n",
              "<table border=\"1\" class=\"dataframe\">\n",
              "  <thead>\n",
              "    <tr style=\"text-align: right;\">\n",
              "      <th></th>\n",
              "      <th>train loss</th>\n",
              "      <th>valid loss</th>\n",
              "      <th>valid accur</th>\n",
              "      <th>training time</th>\n",
              "      <th>validation time</th>\n",
              "    </tr>\n",
              "    <tr>\n",
              "      <th>epoch</th>\n",
              "      <th></th>\n",
              "      <th></th>\n",
              "      <th></th>\n",
              "      <th></th>\n",
              "      <th></th>\n",
              "    </tr>\n",
              "  </thead>\n",
              "  <tbody>\n",
              "    <tr>\n",
              "      <th>1</th>\n",
              "      <td>0.64043</td>\n",
              "      <td>0.56962</td>\n",
              "      <td>0.70085</td>\n",
              "      <td>00:03:08</td>\n",
              "      <td>00:00:06</td>\n",
              "    </tr>\n",
              "    <tr>\n",
              "      <th>2</th>\n",
              "      <td>0.51385</td>\n",
              "      <td>0.54758</td>\n",
              "      <td>0.73044</td>\n",
              "      <td>00:03:10</td>\n",
              "      <td>00:00:06</td>\n",
              "    </tr>\n",
              "  </tbody>\n",
              "</table>\n",
              "</div>\n",
              "      <button class=\"colab-df-convert\" onclick=\"convertToInteractive('df-bfb5eaba-f2e6-4e5f-9d33-71501799fda0')\"\n",
              "              title=\"Convert this dataframe to an interactive table.\"\n",
              "              style=\"display:none;\">\n",
              "        \n",
              "  <svg xmlns=\"http://www.w3.org/2000/svg\" height=\"24px\"viewBox=\"0 0 24 24\"\n",
              "       width=\"24px\">\n",
              "    <path d=\"M0 0h24v24H0V0z\" fill=\"none\"/>\n",
              "    <path d=\"M18.56 5.44l.94 2.06.94-2.06 2.06-.94-2.06-.94-.94-2.06-.94 2.06-2.06.94zm-11 1L8.5 8.5l.94-2.06 2.06-.94-2.06-.94L8.5 2.5l-.94 2.06-2.06.94zm10 10l.94 2.06.94-2.06 2.06-.94-2.06-.94-.94-2.06-.94 2.06-2.06.94z\"/><path d=\"M17.41 7.96l-1.37-1.37c-.4-.4-.92-.59-1.43-.59-.52 0-1.04.2-1.43.59L10.3 9.45l-7.72 7.72c-.78.78-.78 2.05 0 2.83L4 21.41c.39.39.9.59 1.41.59.51 0 1.02-.2 1.41-.59l7.78-7.78 2.81-2.81c.8-.78.8-2.07 0-2.86zM5.41 20L4 18.59l7.72-7.72 1.47 1.35L5.41 20z\"/>\n",
              "  </svg>\n",
              "      </button>\n",
              "      \n",
              "  <style>\n",
              "    .colab-df-container {\n",
              "      display:flex;\n",
              "      flex-wrap:wrap;\n",
              "      gap: 12px;\n",
              "    }\n",
              "\n",
              "    .colab-df-convert {\n",
              "      background-color: #E8F0FE;\n",
              "      border: none;\n",
              "      border-radius: 50%;\n",
              "      cursor: pointer;\n",
              "      display: none;\n",
              "      fill: #1967D2;\n",
              "      height: 32px;\n",
              "      padding: 0 0 0 0;\n",
              "      width: 32px;\n",
              "    }\n",
              "\n",
              "    .colab-df-convert:hover {\n",
              "      background-color: #E2EBFA;\n",
              "      box-shadow: 0px 1px 2px rgba(60, 64, 67, 0.3), 0px 1px 3px 1px rgba(60, 64, 67, 0.15);\n",
              "      fill: #174EA6;\n",
              "    }\n",
              "\n",
              "    [theme=dark] .colab-df-convert {\n",
              "      background-color: #3B4455;\n",
              "      fill: #D2E3FC;\n",
              "    }\n",
              "\n",
              "    [theme=dark] .colab-df-convert:hover {\n",
              "      background-color: #434B5C;\n",
              "      box-shadow: 0px 1px 3px 1px rgba(0, 0, 0, 0.15);\n",
              "      filter: drop-shadow(0px 1px 2px rgba(0, 0, 0, 0.3));\n",
              "      fill: #FFFFFF;\n",
              "    }\n",
              "  </style>\n",
              "\n",
              "      <script>\n",
              "        const buttonEl =\n",
              "          document.querySelector('#df-bfb5eaba-f2e6-4e5f-9d33-71501799fda0 button.colab-df-convert');\n",
              "        buttonEl.style.display =\n",
              "          google.colab.kernel.accessAllowed ? 'block' : 'none';\n",
              "\n",
              "        async function convertToInteractive(key) {\n",
              "          const element = document.querySelector('#df-bfb5eaba-f2e6-4e5f-9d33-71501799fda0');\n",
              "          const dataTable =\n",
              "            await google.colab.kernel.invokeFunction('convertToInteractive',\n",
              "                                                     [key], {});\n",
              "          if (!dataTable) return;\n",
              "\n",
              "          const docLinkHtml = 'Like what you see? Visit the ' +\n",
              "            '<a target=\"_blank\" href=https://colab.research.google.com/notebooks/data_table.ipynb>data table notebook</a>'\n",
              "            + ' to learn more about interactive tables.';\n",
              "          element.innerHTML = '';\n",
              "          dataTable['output_type'] = 'display_data';\n",
              "          await google.colab.output.renderOutput(dataTable, element);\n",
              "          const docLink = document.createElement('div');\n",
              "          docLink.innerHTML = docLinkHtml;\n",
              "          element.appendChild(docLink);\n",
              "        }\n",
              "      </script>\n",
              "    </div>\n",
              "  </div>\n",
              "  "
            ]
          },
          "metadata": {},
          "execution_count": 17
        }
      ]
    },
    {
      "cell_type": "code",
      "source": [
        "# df_stats.to_csv(f'./drive/MyDrive/nlp/len{MAX_LENGTH}_batch{BATCH_SIZE}_lr{LEARNING_RATE}_epochs{EPOCHS_NUM}')"
      ],
      "metadata": {
        "id": "YaLOSgTUBiZ0"
      },
      "execution_count": null,
      "outputs": []
    },
    {
      "cell_type": "markdown",
      "source": [
        "A complete search of all combinations of parameters needs too many calculations, so we vary one parameter when fixing the other ones, and so we do this with each (except for the number of epochs, there are always 4 of them to track the dynamics).\n",
        "\n",
        "For not doing such calculations at each launch, their results were stored in separate files, as well as the most optimal model file."
      ],
      "metadata": {
        "id": "yX0ZyaLhXlxx"
      }
    },
    {
      "cell_type": "code",
      "source": [
        "df_lr_2e =  pd.read_csv('./drive/MyDrive/nlp/len128_batch16_lr2e-05_epochs4')\n",
        "df_lr_3e =  pd.read_csv('./drive/MyDrive/nlp/len128_batch16_lr3e-05_epochs4')\n",
        "df_lr_5e =  pd.read_csv('./drive/MyDrive/nlp/len128_batch16_lr5e-05_epochs4')"
      ],
      "metadata": {
        "id": "4MgXoJc7Y12y"
      },
      "execution_count": null,
      "outputs": []
    },
    {
      "cell_type": "code",
      "source": [
        "sns.set(style='darkgrid')\n",
        "plt.rcParams['figure.figsize'] = (12.11,4)\n",
        "\n",
        "# plot the learning curves\n",
        "plt.plot([1, 2, 3, 4], df_lr_2e['train loss'].values, 'b--o', label='train 2e-05')\n",
        "plt.plot([1, 2, 3, 4], df_lr_2e['valid loss'].values, 'b-o', label='valid 2e-05')\n",
        "\n",
        "plt.plot([1, 2, 3, 4], df_lr_3e['train loss'].values, 'g--o', label='train 3e-05')\n",
        "plt.plot([1, 2, 3, 4], df_lr_3e['valid loss'].values, 'g-o', label='valid 3e-05')\n",
        "\n",
        "plt.plot([1, 2, 3, 4], df_lr_5e['train loss'].values, 'r--o', label='train 5e-05')\n",
        "plt.plot([1, 2, 3, 4], df_lr_5e['valid loss'].values, 'r-o', label='valid 5e-05')\n",
        "\n",
        "plt.title('Loss depending on LEARNING_RATE')\n",
        "plt.ylabel('Loss')\n",
        "plt.xticks([1, 2, 3, 4])\n",
        "plt.legend()\n",
        "plt.show()\n",
        "\n",
        "\n",
        "plt.rcParams['figure.figsize'] = (12,4)\n",
        "\n",
        "# plot the accuracy curves\n",
        "plt.plot([1, 2, 3, 4], df_lr_2e['valid accur'].values, 'b-o', label='acc 2e-05')\n",
        "plt.plot([1, 2, 3, 4], df_lr_3e['valid accur'].values, 'g-o', label='acc 3e-05')\n",
        "plt.plot([1, 2, 3, 4], df_lr_5e['valid accur'].values, 'r-o', label='acc 5e-05')\n",
        "\n",
        "plt.title('Accuracy depending on LEARNING_RATE')\n",
        "plt.ylabel('Accuracy')\n",
        "plt.xticks([1, 2, 3, 4])\n",
        "plt.legend()\n",
        "plt.show()"
      ],
      "metadata": {
        "colab": {
          "base_uri": "https://localhost:8080/",
          "height": 551
        },
        "id": "LP7RpObLcTHz",
        "outputId": "fb1b979a-43d6-4f08-ccba-9f08b60daafc"
      },
      "execution_count": null,
      "outputs": [
        {
          "output_type": "display_data",
          "data": {
            "text/plain": [
              "<Figure size 871.92x288 with 1 Axes>"
            ],
            "image/png": "[encoded data removed]"
          },
          "metadata": {}
        },
        {
          "output_type": "display_data",
          "data": {
            "text/plain": [
              "<Figure size 864x288 with 1 Axes>"
            ],
            "image/png": "[encoded data removed]"
          },
          "metadata": {}
        }
      ]
    },
    {
      "cell_type": "markdown",
      "source": [
        "It is important to say that such high accuracy rates can't be achieved every time, because when they were obtained, there wasn't set a random seed for splitting into training and validation parts in [9] cell. It is not a problem that such high accuracy is not achieved every time. If its appearance was caused by a specific set of samples in the training and validation part, this would certainly not give as good accuracy on random test data."
      ],
      "metadata": {
        "id": "ttkV2szf0nob"
      }
    },
    {
      "cell_type": "code",
      "source": [
        "df_len_64 =  pd.read_csv('./drive/MyDrive/nlp/len64_batch16_lr5e-05_epochs4')\n",
        "df_len_128 =  pd.read_csv('./drive/MyDrive/nlp/len128_batch16_lr5e-05_epochs4')\n",
        "df_len_256 =  pd.read_csv('./drive/MyDrive/nlp/len256_batch16_lr5e-05_epochs4')"
      ],
      "metadata": {
        "id": "nqrchcmjmujD"
      },
      "execution_count": null,
      "outputs": []
    },
    {
      "cell_type": "code",
      "source": [
        "plt.rcParams['figure.figsize'] = (12.11,4)\n",
        "\n",
        "# plot the learning curves\n",
        "plt.plot([1, 2, 3, 4], df_len_64['train loss'].values, 'b--o', label='train 64')\n",
        "plt.plot([1, 2, 3, 4], df_len_64['valid loss'].values, 'b-o', label='valid 64')\n",
        "\n",
        "plt.plot([1, 2, 3, 4], df_len_128['train loss'].values, 'g--o', label='train 128')\n",
        "plt.plot([1, 2, 3, 4], df_len_128['valid loss'].values, 'g-o', label='valid 128')\n",
        "\n",
        "plt.plot([1, 2, 3, 4], df_len_256['train loss'].values, 'r--o', label='train 256')\n",
        "plt.plot([1, 2, 3, 4], df_len_256['valid loss'].values, 'r-o', label='valid 256')\n",
        "\n",
        "plt.title('Loss depending on MAX_LENGTH')\n",
        "plt.ylabel('Loss')\n",
        "plt.xticks([1, 2, 3, 4])\n",
        "plt.legend()\n",
        "plt.show()\n",
        "\n",
        "\n",
        "plt.rcParams['figure.figsize'] = (12,4)\n",
        "\n",
        "# plot the accuracy curves\n",
        "plt.plot([1, 2, 3, 4], df_len_64['valid accur'].values, 'b-o', label='acc 64')\n",
        "plt.plot([1, 2, 3, 4], df_len_128['valid accur'].values, 'g-o', label='acc 128')\n",
        "plt.plot([1, 2, 3, 4], df_len_256['valid accur'].values, 'r-o', label='acc 256')\n",
        "\n",
        "plt.title('Accuracy depending on MAX_LENGTH')\n",
        "plt.ylabel('Accuracy')\n",
        "plt.xticks([1, 2, 3, 4])\n",
        "plt.legend()\n",
        "plt.show()"
      ],
      "metadata": {
        "colab": {
          "base_uri": "https://localhost:8080/",
          "height": 551
        },
        "id": "50Eli60enpgH",
        "outputId": "4d0fd52d-8ffa-45f4-9a64-c183bbbbdb87"
      },
      "execution_count": null,
      "outputs": [
        {
          "output_type": "display_data",
          "data": {
            "text/plain": [
              "<Figure size 871.92x288 with 1 Axes>"
            ],
            "image/png": "[encoded data removed]"
          },
          "metadata": {}
        },
        {
          "output_type": "display_data",
          "data": {
            "text/plain": [
              "<Figure size 864x288 with 1 Axes>"
            ],
            "image/png": "[encoded data removed]"
          },
          "metadata": {}
        }
      ]
    },
    {
      "cell_type": "markdown",
      "source": [
        "As expected, training loss are falling with each epoch, and validation losses are growing. This suggests that the model is getting over-fitted to the training data, and is increasingly \"doubting\" the answers to the validation part. If it is not very easy to identify the most optimal parameter looking at loss changes, then it is easy to choose 3e-05 looking at the accuracy graphs."
      ],
      "metadata": {
        "id": "wq3R-HIHikG-"
      }
    },
    {
      "cell_type": "code",
      "source": [
        "df_batch_16 =  pd.read_csv('./drive/MyDrive/nlp/len128_batch16_lr3e-05_epochs4')\n",
        "df_batch_32 =  pd.read_csv('./drive/MyDrive/nlp/len128_batch32_lr3e-05_epochs4')"
      ],
      "metadata": {
        "id": "HIlqIyIlpoJn"
      },
      "execution_count": null,
      "outputs": []
    },
    {
      "cell_type": "code",
      "source": [
        "plt.rcParams['figure.figsize'] = (12.11,4)\n",
        "\n",
        "# plot the learning curves\n",
        "plt.plot([1, 2, 3, 4], df_batch_16['train loss'].values, 'b--o', label='train 16')\n",
        "plt.plot([1, 2, 3, 4], df_batch_16['valid loss'].values, 'b-o', label='valid 16')\n",
        "\n",
        "plt.plot([1, 2, 3, 4], df_batch_32['train loss'].values, 'r--o', label='train 32')\n",
        "plt.plot([1, 2, 3, 4], df_batch_32['valid loss'].values, 'r-o', label='valid 32')\n",
        "\n",
        "plt.title('Loss depending on BATCH_SIZE')\n",
        "plt.ylabel('Loss')\n",
        "plt.xticks([1, 2, 3, 4])\n",
        "plt.legend()\n",
        "plt.show()\n",
        "\n",
        "\n",
        "plt.rcParams['figure.figsize'] = (12,4)\n",
        "\n",
        "# plot the accuracy curves\n",
        "plt.plot([1, 2, 3, 4], df_batch_16['valid accur'].values, 'b-o', label='acc 16')\n",
        "plt.plot([1, 2, 3, 4], df_batch_32['valid accur'].values, 'r-o', label='acc 32')\n",
        "\n",
        "plt.title('Accuracy depending on BATCH_SIZE')\n",
        "plt.ylabel('Accuracy')\n",
        "plt.xticks([1, 2, 3, 4])\n",
        "plt.legend()\n",
        "plt.show()"
      ],
      "metadata": {
        "colab": {
          "base_uri": "https://localhost:8080/",
          "height": 551
        },
        "id": "lI3V6o9RijrO",
        "outputId": "95833d9a-de5c-4d7e-e488-f6b5de2b4611"
      },
      "execution_count": null,
      "outputs": [
        {
          "output_type": "display_data",
          "data": {
            "text/plain": [
              "<Figure size 871.92x288 with 1 Axes>"
            ],
            "image/png": "[encoded data removed]"
          },
          "metadata": {}
        },
        {
          "output_type": "display_data",
          "data": {
            "text/plain": [
              "<Figure size 864x288 with 1 Axes>"
            ],
            "image/png": "[encoded data removed]"
          },
          "metadata": {}
        }
      ]
    },
    {
      "cell_type": "markdown",
      "source": [
        "In the final model, we will use only 2 training epochs. This way we will be able to avoid overfitting."
      ],
      "metadata": {
        "id": "lO4tgVyS4WxJ"
      }
    },
    {
      "cell_type": "markdown",
      "source": [
        "# Evaluating on test data\n",
        "\n",
        "Here we gonna just go through already used pipeline with new data. Literally Сtrl+C Сtrl+V was used here."
      ],
      "metadata": {
        "id": "YfkVvQvVt4lW"
      }
    },
    {
      "cell_type": "code",
      "source": [
        "df = pd.read_json('./drive/MyDrive/nlp/val.jsonl', lines=True)"
      ],
      "metadata": {
        "id": "uRIlQ6MkurXR"
      },
      "execution_count": null,
      "outputs": []
    },
    {
      "cell_type": "code",
      "source": [
        "# preparing data for BERT model\n",
        "df['encoded_dict'] = df.progress_apply(lambda x: tokenizer.encode_plus(\n",
        "                                                 text = x['question'],         # 1st sentence to encode\n",
        "                                                 text_pair = x['passage'],     # 2nd sentence to encode\n",
        "                                                 add_special_tokens = True,    # add '[CLS]' and '[SEP]'\n",
        "                                                 max_length = MAX_LENGTH,      # pad & truncate all sentences\n",
        "                                                 pad_to_max_length = True,\n",
        "                                                 return_attention_mask = True, # construct attention masks\n",
        "                                                 return_tensors = 'pt'         # return pytorch tensors\n",
        "                                                 ), axis=1)"
      ],
      "metadata": {
        "colab": {
          "base_uri": "https://localhost:8080/",
          "height": 49,
          "referenced_widgets": [
            "84168e2bad8145398d6e4d7c53691ad2",
            "f97f22eb65174329ba55a6d4baad0f04",
            "38eea9b2cf894825856d20325597efaa",
            "2647535a229a47349e3dae9456cc3f41",
            "5be0bd046879401abc4c451b2b5a40e8",
            "8dcca3c113dd40258b396eaa030f4624",
            "4476b165de9d449c951e2601e26f46a4",
            "7d4de6b0e3104e3e90b50226f33aec51",
            "84713709c69c45d493580febfeeed142",
            "ad46f86d74c44facb06e61ebde4c3b5d",
            "624352dcaf21443cad9200e7d03b921c"
          ]
        },
        "outputId": "ced84e6e-9dc1-4f33-af46-e76763a6066b",
        "id": "5a1ZJXpburXS"
      },
      "execution_count": null,
      "outputs": [
        {
          "output_type": "display_data",
          "data": {
            "text/plain": [
              "  0%|          | 0/3270 [00:00<?, ?it/s]"
            ],
            "application/vnd.jupyter.widget-view+json": {
              "version_major": 2,
              "version_minor": 0,
              "model_id": "84168e2bad8145398d6e4d7c53691ad2"
            }
          },
          "metadata": {}
        }
      ]
    },
    {
      "cell_type": "code",
      "source": [
        "# extracting useful features from the dictionary\n",
        "df['input_ids'] = df['encoded_dict'].apply(lambda x: x['input_ids'])\n",
        "df['attention_mask'] = df['encoded_dict'].apply(lambda x: x['attention_mask'])"
      ],
      "metadata": {
        "id": "9bVRAnsEurXT"
      },
      "execution_count": null,
      "outputs": []
    },
    {
      "cell_type": "code",
      "source": [
        "# BERT needs integer numbers as classification marks \n",
        "df['label'] = df['label'].apply(int)"
      ],
      "metadata": {
        "id": "5MNhmDHDurXT"
      },
      "execution_count": null,
      "outputs": []
    },
    {
      "cell_type": "code",
      "source": [
        "# transformation the data to tensor form for further putting it into the model\n",
        "input_ids_tf = torch.cat(list(df['input_ids']), dim=0)\n",
        "attention_masks_tf = torch.cat(list(df['attention_mask'].values), dim=0)\n",
        "labels_tf = torch.tensor(list(df['label']))"
      ],
      "metadata": {
        "id": "RjUXF_MWurXT"
      },
      "execution_count": null,
      "outputs": []
    },
    {
      "cell_type": "markdown",
      "source": [
        "Randomized splitting data into training and validation parts. "
      ],
      "metadata": {
        "id": "BELCNZDjurXU"
      }
    },
    {
      "cell_type": "code",
      "source": [
        "# combine the inputs into a TensorDataset\n",
        "test_df = TensorDataset(input_ids_tf, attention_masks_tf, labels_tf)"
      ],
      "metadata": {
        "id": "rCBwthtVurXU"
      },
      "execution_count": null,
      "outputs": []
    },
    {
      "cell_type": "code",
      "source": [
        "# creating data loader\n",
        "test_dataloader = DataLoader(test_df,                          # the training samples\n",
        "                             sampler = RandomSampler(test_df), # select batches randomly\n",
        "                             batch_size = batch_size)           # trains with this batch size"
      ],
      "metadata": {
        "id": "Fe2HNWvYuKgg"
      },
      "execution_count": null,
      "outputs": []
    },
    {
      "cell_type": "code",
      "source": [
        "## TEST PART\n",
        "\n",
        "print('\\n  Testing...')\n",
        "\n",
        "t0 = time.time()\n",
        "\n",
        "# put the model in evaluation mode: the dropout layers behave differently during evaluation\n",
        "model.eval()\n",
        "\n",
        "# tracking variables \n",
        "total_eval_accuracy = 0\n",
        "total_eval_loss = 0\n",
        "nb_eval_steps = 0\n",
        "\n",
        "# evaluate data for one epoch\n",
        "for batch in test_dataloader:\n",
        "    \n",
        "    # batch contains three pytorch tensors: [0] - input ids, [1] - attention masks, [2]-  labels;\n",
        "    # as we unpack the batch, we'll also copy each tensor to the GPU using the 'to' method\n",
        "    b_input_ids = batch[0].to(device)\n",
        "    b_input_mask = batch[1].to(device)\n",
        "    b_labels = batch[2].to(device)\n",
        "    \n",
        "    # tell pytorch not to compute gradient during the forward pass (we don't need back propagation now)\n",
        "    with torch.no_grad():        \n",
        "\n",
        "        # forward pass, calculate logit predictions;\n",
        "        # the 'logits' are the output values prior to applying an activation function like the softmax\n",
        "        loss, logits = model(b_input_ids, \n",
        "                             token_type_ids=None, \n",
        "                             attention_mask=b_input_mask,\n",
        "                             labels=b_labels).to_tuple()\n",
        "        \n",
        "    # accumulate the test loss\n",
        "    total_eval_loss += loss.item()\n",
        "\n",
        "    # move logits and labels to CPU\n",
        "    logits = logits.detach().cpu().numpy()\n",
        "    label_ids = b_labels.to('cpu').numpy()\n",
        "\n",
        "    # calculate the accuracy for this batch of test sentences, and accumulate it over all batches\n",
        "    # total_eval_accuracy += accuracy_score(label_ids, logits)\n",
        "    total_eval_accuracy += flat_accuracy(logits, label_ids)\n",
        "    \n",
        "\n",
        "# report the final accuracy for this test run\n",
        "avg_test_accuracy = total_eval_accuracy / len(test_dataloader)\n",
        "print(f'    accuracy: {avg_test_accuracy:.2f}')\n",
        "\n",
        "# calculate the average loss over all of the batches\n",
        "avg_test_loss = total_eval_loss / len(val_dataloader)\n",
        "\n",
        "# measure how long the test run took\n",
        "test_time = strftime('%H:%M:%S', gmtime((time.time() - t0)))\n",
        "\n",
        "print(f'    test loss: {avg_test_loss:.2f}')\n",
        "print('    test took: ' + test_time + '\\n')\n",
        "\n",
        "# record all statistics from this epoch\n",
        "test_stats = {'test loss': avg_test_loss,\n",
        "              'test accur': avg_test_accuracy,\n",
        "              'test time': test_time}"
      ],
      "metadata": {
        "colab": {
          "base_uri": "https://localhost:8080/"
        },
        "id": "4x9KDmM7qSwv",
        "outputId": "e3159427-560e-40c1-f2f9-70500a1c8e28"
      },
      "execution_count": null,
      "outputs": [
        {
          "output_type": "stream",
          "name": "stdout",
          "text": [
            "\n",
            "  Testing...\n",
            "    accuracy: 0.72\n",
            "    test loss: 1.98\n",
            "    test took: 00:00:24\n",
            "\n"
          ]
        }
      ]
    },
    {
      "cell_type": "code",
      "source": [
        "test_accuracy = test_stats['test accur']\n",
        "print(f'max accuracy is{test_accuracy: .4}, it\\'s {(test_accuracy-0.622)*100: .3}% better then baseline')"
      ],
      "metadata": {
        "colab": {
          "base_uri": "https://localhost:8080/"
        },
        "id": "Ib4WkfivztIL",
        "outputId": "7896fb0f-e4f6-4e45-c4f8-f7b3cfdfe768"
      },
      "execution_count": null,
      "outputs": [
        {
          "output_type": "stream",
          "name": "stdout",
          "text": [
            "max accuracy is 0.7189, it's  9.69% better then baseline\n"
          ]
        }
      ]
    },
    {
      "cell_type": "markdown",
      "source": [
        "So we have:\n",
        "* an increase of >3% relative to the baseline for a manually made vectorizer, on the basis of which classical vectorization algorithms were tested (one of them was specially tuned)\n",
        "* an increase of >7% for the BERT vectorizer, on the basis of which classical vectorization algorithms were also tested\n",
        "* an increase of >9% for the BERT neural network based on a pre-training deep learning network"
      ],
      "metadata": {
        "id": "tDg7RTI_8zz_"
      }
    },
    {
      "cell_type": "markdown",
      "source": [
        " It would be possible to try some things to improve the results:\n",
        " * for the final method of solving the problem, цу can take the same pre-training model that was used in the second method, perhaps a corpus of texts consisting of questions and answers (even if not only with Yes /No answers) would work tutu better than the basic one\n",
        " * it would definitely improve the metrics in each method of applying cross-validation, so we would mostly compensate for overfitting\n",
        " * we could just add some more data, for example, combine the train, test and val jsonl-files, then allocate about 10 percent for deferred testing, and apply the mentioned cross-validation in the remaining training part"
      ],
      "metadata": {
        "id": "OI9xpuuv9a7d"
      }
    },
    {
      "cell_type": "code",
      "source": [],
      "metadata": {
        "id": "WZtoXLSq_SNp"
      },
      "execution_count": null,
      "outputs": []
    }
  ]
}