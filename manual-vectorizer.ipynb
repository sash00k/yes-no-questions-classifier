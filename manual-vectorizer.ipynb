{
  "nbformat": 4,
  "nbformat_minor": 0,
  "metadata": {
    "colab": {
      "provenance": []
    },
    "kernelspec": {
      "name": "python3",
      "display_name": "Python 3"
    },
    "language_info": {
      "name": "python"
    }
  },
  "cells": [
    {
      "cell_type": "code",
      "source": [
        "import pandas as pd\n",
        "import seaborn as sns\n",
        "import matplotlib.pyplot as plt\n",
        "import numpy as np\n",
        "import nltk\n",
        "import re\n",
        "\n",
        "import warnings\n",
        "warnings.filterwarnings(\"ignore\")"
      ],
      "metadata": {
        "id": "m-iJ5TzSr_4T"
      },
      "execution_count": null,
      "outputs": []
    },
    {
      "cell_type": "code",
      "source": [
        "train_df = pd.read_json('./drive/MyDrive/train.jsonl', lines=True)\n",
        "val_df = pd.read_json('./drive/MyDrive/val.jsonl', lines=True)"
      ],
      "metadata": {
        "id": "woIcyEtg18Pi"
      },
      "execution_count": null,
      "outputs": []
    },
    {
      "cell_type": "code",
      "source": [
        "print(f'{train_df.shape[0]} is train_df size')\n",
        "print(f'{val_df.shape[0]} is val_df size')"
      ],
      "metadata": {
        "colab": {
          "base_uri": "https://localhost:8080/"
        },
        "id": "BntFFs4guHkO",
        "outputId": "72a3f39c-cd7d-42b0-9360-48b769a51eff"
      },
      "execution_count": null,
      "outputs": [
        {
          "output_type": "stream",
          "name": "stdout",
          "text": [
            "9427 is train_df size\n",
            "3270 is val_df size\n"
          ]
        }
      ]
    },
    {
      "cell_type": "code",
      "source": [
        "base_train = train_df[train_df['label']].shape[0]/train_df.shape[0]\n",
        "print(f'positive answers proportion in training data:{base_train: .3}')\n",
        "\n",
        "base_val = val_df[val_df['label']].shape[0]/val_df.shape[0]\n",
        "print(f'positive answers proportion in validation data:{base_val: .3}')"
      ],
      "metadata": {
        "colab": {
          "base_uri": "https://localhost:8080/"
        },
        "id": "Zm-LFAkaotWt",
        "outputId": "410e45f1-ac75-4086-c8c9-d06143e3d7ab"
      },
      "execution_count": null,
      "outputs": [
        {
          "output_type": "stream",
          "name": "stdout",
          "text": [
            "positive answers proportion in training data: 0.623\n",
            "positive answers proportion in validation data: 0.622\n"
          ]
        }
      ]
    },
    {
      "cell_type": "code",
      "source": [
        "# let's combine the training and validation part of the data so that they get the same changes\n",
        "train_df['purpose'] = 'train'\n",
        "val_df['purpose'] = 'val'\n",
        "df = train_df.append(val_df, ignore_index=True)"
      ],
      "metadata": {
        "id": "zdPi4dq_VRNy"
      },
      "execution_count": null,
      "outputs": []
    },
    {
      "cell_type": "code",
      "source": [
        "df.head()"
      ],
      "metadata": {
        "colab": {
          "base_uri": "https://localhost:8080/",
          "height": 206
        },
        "id": "E8FkqfLpzDm-",
        "outputId": "0f5d5bdd-cd07-473f-a8bb-75c30aa83a32"
      },
      "execution_count": null,
      "outputs": [
        {
          "output_type": "execute_result",
          "data": {
            "text/plain": [
              "                                            question  \\\n",
              "0    do iran and afghanistan speak the same language   \n",
              "1  do good samaritan laws protect those who help ...   \n",
              "2  is windows movie maker part of windows essentials   \n",
              "3  is confectionary sugar the same as powdered sugar   \n",
              "4         is elder scrolls online the same as skyrim   \n",
              "\n",
              "                                             passage  idx  label purpose  \n",
              "0  Persian language -- Persian (/ˈpɜːrʒən, -ʃən/)...    0   True   train  \n",
              "1  Good Samaritan law -- Good Samaritan laws offe...    1   True   train  \n",
              "2  Windows Movie Maker -- Windows Movie Maker (fo...    2   True   train  \n",
              "3  Powdered sugar -- Powdered sugar, also called ...    3   True   train  \n",
              "4  The Elder Scrolls Online -- As with other game...    4  False   train  "
            ],
            "text/html": [
              "\n",
              "  <div id=\"df-cfd78b15-d0b4-454f-80b0-002e37093502\">\n",
              "    <div class=\"colab-df-container\">\n",
              "      <div>\n",
              "<style scoped>\n",
              "    .dataframe tbody tr th:only-of-type {\n",
              "        vertical-align: middle;\n",
              "    }\n",
              "\n",
              "    .dataframe tbody tr th {\n",
              "        vertical-align: top;\n",
              "    }\n",
              "\n",
              "    .dataframe thead th {\n",
              "        text-align: right;\n",
              "    }\n",
              "</style>\n",
              "<table border=\"1\" class=\"dataframe\">\n",
              "  <thead>\n",
              "    <tr style=\"text-align: right;\">\n",
              "      <th></th>\n",
              "      <th>question</th>\n",
              "      <th>passage</th>\n",
              "      <th>idx</th>\n",
              "      <th>label</th>\n",
              "      <th>purpose</th>\n",
              "    </tr>\n",
              "  </thead>\n",
              "  <tbody>\n",
              "    <tr>\n",
              "      <th>0</th>\n",
              "      <td>do iran and afghanistan speak the same language</td>\n",
              "      <td>Persian language -- Persian (/ˈpɜːrʒən, -ʃən/)...</td>\n",
              "      <td>0</td>\n",
              "      <td>True</td>\n",
              "      <td>train</td>\n",
              "    </tr>\n",
              "    <tr>\n",
              "      <th>1</th>\n",
              "      <td>do good samaritan laws protect those who help ...</td>\n",
              "      <td>Good Samaritan law -- Good Samaritan laws offe...</td>\n",
              "      <td>1</td>\n",
              "      <td>True</td>\n",
              "      <td>train</td>\n",
              "    </tr>\n",
              "    <tr>\n",
              "      <th>2</th>\n",
              "      <td>is windows movie maker part of windows essentials</td>\n",
              "      <td>Windows Movie Maker -- Windows Movie Maker (fo...</td>\n",
              "      <td>2</td>\n",
              "      <td>True</td>\n",
              "      <td>train</td>\n",
              "    </tr>\n",
              "    <tr>\n",
              "      <th>3</th>\n",
              "      <td>is confectionary sugar the same as powdered sugar</td>\n",
              "      <td>Powdered sugar -- Powdered sugar, also called ...</td>\n",
              "      <td>3</td>\n",
              "      <td>True</td>\n",
              "      <td>train</td>\n",
              "    </tr>\n",
              "    <tr>\n",
              "      <th>4</th>\n",
              "      <td>is elder scrolls online the same as skyrim</td>\n",
              "      <td>The Elder Scrolls Online -- As with other game...</td>\n",
              "      <td>4</td>\n",
              "      <td>False</td>\n",
              "      <td>train</td>\n",
              "    </tr>\n",
              "  </tbody>\n",
              "</table>\n",
              "</div>\n",
              "      <button class=\"colab-df-convert\" onclick=\"convertToInteractive('df-cfd78b15-d0b4-454f-80b0-002e37093502')\"\n",
              "              title=\"Convert this dataframe to an interactive table.\"\n",
              "              style=\"display:none;\">\n",
              "        \n",
              "  <svg xmlns=\"http://www.w3.org/2000/svg\" height=\"24px\"viewBox=\"0 0 24 24\"\n",
              "       width=\"24px\">\n",
              "    <path d=\"M0 0h24v24H0V0z\" fill=\"none\"/>\n",
              "    <path d=\"M18.56 5.44l.94 2.06.94-2.06 2.06-.94-2.06-.94-.94-2.06-.94 2.06-2.06.94zm-11 1L8.5 8.5l.94-2.06 2.06-.94-2.06-.94L8.5 2.5l-.94 2.06-2.06.94zm10 10l.94 2.06.94-2.06 2.06-.94-2.06-.94-.94-2.06-.94 2.06-2.06.94z\"/><path d=\"M17.41 7.96l-1.37-1.37c-.4-.4-.92-.59-1.43-.59-.52 0-1.04.2-1.43.59L10.3 9.45l-7.72 7.72c-.78.78-.78 2.05 0 2.83L4 21.41c.39.39.9.59 1.41.59.51 0 1.02-.2 1.41-.59l7.78-7.78 2.81-2.81c.8-.78.8-2.07 0-2.86zM5.41 20L4 18.59l7.72-7.72 1.47 1.35L5.41 20z\"/>\n",
              "  </svg>\n",
              "      </button>\n",
              "      \n",
              "  <style>\n",
              "    .colab-df-container {\n",
              "      display:flex;\n",
              "      flex-wrap:wrap;\n",
              "      gap: 12px;\n",
              "    }\n",
              "\n",
              "    .colab-df-convert {\n",
              "      background-color: #E8F0FE;\n",
              "      border: none;\n",
              "      border-radius: 50%;\n",
              "      cursor: pointer;\n",
              "      display: none;\n",
              "      fill: #1967D2;\n",
              "      height: 32px;\n",
              "      padding: 0 0 0 0;\n",
              "      width: 32px;\n",
              "    }\n",
              "\n",
              "    .colab-df-convert:hover {\n",
              "      background-color: #E2EBFA;\n",
              "      box-shadow: 0px 1px 2px rgba(60, 64, 67, 0.3), 0px 1px 3px 1px rgba(60, 64, 67, 0.15);\n",
              "      fill: #174EA6;\n",
              "    }\n",
              "\n",
              "    [theme=dark] .colab-df-convert {\n",
              "      background-color: #3B4455;\n",
              "      fill: #D2E3FC;\n",
              "    }\n",
              "\n",
              "    [theme=dark] .colab-df-convert:hover {\n",
              "      background-color: #434B5C;\n",
              "      box-shadow: 0px 1px 3px 1px rgba(0, 0, 0, 0.15);\n",
              "      filter: drop-shadow(0px 1px 2px rgba(0, 0, 0, 0.3));\n",
              "      fill: #FFFFFF;\n",
              "    }\n",
              "  </style>\n",
              "\n",
              "      <script>\n",
              "        const buttonEl =\n",
              "          document.querySelector('#df-cfd78b15-d0b4-454f-80b0-002e37093502 button.colab-df-convert');\n",
              "        buttonEl.style.display =\n",
              "          google.colab.kernel.accessAllowed ? 'block' : 'none';\n",
              "\n",
              "        async function convertToInteractive(key) {\n",
              "          const element = document.querySelector('#df-cfd78b15-d0b4-454f-80b0-002e37093502');\n",
              "          const dataTable =\n",
              "            await google.colab.kernel.invokeFunction('convertToInteractive',\n",
              "                                                     [key], {});\n",
              "          if (!dataTable) return;\n",
              "\n",
              "          const docLinkHtml = 'Like what you see? Visit the ' +\n",
              "            '<a target=\"_blank\" href=https://colab.research.google.com/notebooks/data_table.ipynb>data table notebook</a>'\n",
              "            + ' to learn more about interactive tables.';\n",
              "          element.innerHTML = '';\n",
              "          dataTable['output_type'] = 'display_data';\n",
              "          await google.colab.output.renderOutput(dataTable, element);\n",
              "          const docLink = document.createElement('div');\n",
              "          docLink.innerHTML = docLinkHtml;\n",
              "          element.appendChild(docLink);\n",
              "        }\n",
              "      </script>\n",
              "    </div>\n",
              "  </div>\n",
              "  "
            ]
          },
          "metadata": {},
          "execution_count": 6
        }
      ]
    },
    {
      "cell_type": "code",
      "source": [
        "print('negative answer example')\n",
        "print('question:', df[df['label']==False]['question'].values[0])\n",
        "print('passage:', df[df['label']==False]['passage'].values[0])\n",
        "print()"
      ],
      "metadata": {
        "colab": {
          "base_uri": "https://localhost:8080/"
        },
        "id": "8XvxGK2dxEO9",
        "outputId": "c98a0291-23f8-4ed5-afa7-2fd2312c63e1"
      },
      "execution_count": null,
      "outputs": [
        {
          "output_type": "stream",
          "name": "stdout",
          "text": [
            "negative answer example\n",
            "question: is elder scrolls online the same as skyrim\n",
            "passage: The Elder Scrolls Online -- As with other games in The Elder Scrolls series, the game is set on the continent of Tamriel. The events of the game occur a millennium before those of The Elder Scrolls V: Skyrim and around 800 years before The Elder Scrolls III: Morrowind and The Elder Scrolls IV: Oblivion. It has a broadly similar structure to Skyrim, with two separate conflicts progressing at the same time, one with the fate of the world in the balance, and one where the prize is supreme power on Tamriel. In The Elder Scrolls Online, the first struggle is against the Daedric Prince Molag Bal, who is attempting to meld the plane of Mundus with his realm of Coldharbour, and the second is to capture the vacant imperial throne, contested by three alliances of the mortal races. The player character has been sacrificed to Molag Bal, and Molag Bal has stolen their soul, the recovery of which is the primary game objective.\n",
            "\n"
          ]
        }
      ]
    },
    {
      "cell_type": "code",
      "source": [
        "print('positive answer example')\n",
        "print('question:', df[df['label']==True]['question'].values[0])\n",
        "print('passage:', df[df['label']==True]['passage'].values[0])"
      ],
      "metadata": {
        "colab": {
          "base_uri": "https://localhost:8080/"
        },
        "id": "lrDyYDd3e4wq",
        "outputId": "d463e960-523d-44d8-f50c-5a2f6a9410cf"
      },
      "execution_count": null,
      "outputs": [
        {
          "output_type": "stream",
          "name": "stdout",
          "text": [
            "positive answer example\n",
            "question: do iran and afghanistan speak the same language\n",
            "passage: Persian language -- Persian (/ˈpɜːrʒən, -ʃən/), also known by its endonym Farsi (فارسی fārsi (fɒːɾˈsiː) ( listen)), is one of the Western Iranian languages within the Indo-Iranian branch of the Indo-European language family. It is primarily spoken in Iran, Afghanistan (officially known as Dari since 1958), and Tajikistan (officially known as Tajiki since the Soviet era), and some other regions which historically were Persianate societies and considered part of Greater Iran. It is written in the Persian alphabet, a modified variant of the Arabic script, which itself evolved from the Aramaic alphabet.\n"
          ]
        }
      ]
    },
    {
      "cell_type": "markdown",
      "source": [
        "Next, we will work on text preprocessing. Especially we will have to clean up texts that have been get from Wikipedia."
      ],
      "metadata": {
        "id": "8Tw-ar6te9Ro"
      }
    },
    {
      "cell_type": "code",
      "source": [
        "# installing instrument swapping \"I'd\" by \"I would\", \"they've\" by \"they have\" and so on\n",
        "!pip install contractions\n",
        "import contractions\n",
        "\n",
        "# defining a function that formats each text\n",
        "def format_text(text):\n",
        "    text = text.lower() # make lowercase\n",
        "    text = contractions.fix(text) # replace apostrophic short constructions\n",
        "    text = re.sub(r'https?://\\S+|www\\.\\S+', '', text) # remove urls\n",
        "    text = re.sub(r'<.*?>|&([a-z0-9]+|#[0-9]{1,6}|#x[0-9a-f]{1,6});', '', text) # remove html tags\n",
        "    text = re.sub(r'[^\\x00-\\x7f]', '', text) # remove non ascii\n",
        "    text = re.sub(r'[]!\"$%&\\'()*+,./:;=#@?[\\\\^_`{|}~-]+', '', text) # remove normal symbols\n",
        "    return text\n",
        "    # in the dataset, the texts are taken from Wikipedia, so here we may \n",
        "    # not use emoji cleaning and does not work on cases with informal speech"
      ],
      "metadata": {
        "colab": {
          "base_uri": "https://localhost:8080/"
        },
        "id": "_nnTKcxt6qzt",
        "outputId": "a3934b2b-65ed-4f2f-93c7-88e40fac1606"
      },
      "execution_count": null,
      "outputs": [
        {
          "output_type": "stream",
          "name": "stdout",
          "text": [
            "Looking in indexes: https://pypi.org/simple, https://us-python.pkg.dev/colab-wheels/public/simple/\n",
            "Collecting contractions\n",
            "  Downloading contractions-0.1.72-py2.py3-none-any.whl (8.3 kB)\n",
            "Collecting textsearch>=0.0.21\n",
            "  Downloading textsearch-0.0.24-py2.py3-none-any.whl (7.6 kB)\n",
            "Collecting anyascii\n",
            "  Downloading anyascii-0.3.1-py3-none-any.whl (287 kB)\n",
            "\u001b[K     |████████████████████████████████| 287 kB 5.1 MB/s \n",
            "\u001b[?25hCollecting pyahocorasick\n",
            "  Downloading pyahocorasick-1.4.4-cp37-cp37m-manylinux_2_17_x86_64.manylinux2014_x86_64.whl (106 kB)\n",
            "\u001b[K     |████████████████████████████████| 106 kB 28.0 MB/s \n",
            "\u001b[?25hInstalling collected packages: pyahocorasick, anyascii, textsearch, contractions\n",
            "Successfully installed anyascii-0.3.1 contractions-0.1.72 pyahocorasick-1.4.4 textsearch-0.0.24\n"
          ]
        }
      ]
    },
    {
      "cell_type": "code",
      "source": [
        "df['passage_formated'] = df['passage'].apply(lambda x: format_text(x))\n",
        "df['question_formated'] = df['question'].apply(lambda x: format_text(x)) "
      ],
      "metadata": {
        "id": "-HffMcju_nU2"
      },
      "execution_count": null,
      "outputs": []
    },
    {
      "cell_type": "code",
      "source": [
        "# tokenizing base texts\n",
        "from nltk.tokenize import word_tokenize\n",
        "nltk.download('punkt')\n",
        "\n",
        "df['passage_tokenized'] = df['passage_formated'].apply(word_tokenize)\n",
        "df['question_tokenized'] = df['question_formated'].apply(word_tokenize)"
      ],
      "metadata": {
        "colab": {
          "base_uri": "https://localhost:8080/"
        },
        "id": "iNd-cUBZAd1y",
        "outputId": "9aff0f4a-2673-4dcb-d2c3-d3f735b2aaf9"
      },
      "execution_count": null,
      "outputs": [
        {
          "output_type": "stream",
          "name": "stderr",
          "text": [
            "[nltk_data] Downloading package punkt to /root/nltk_data...\n",
            "[nltk_data]   Unzipping tokenizers/punkt.zip.\n"
          ]
        }
      ]
    },
    {
      "cell_type": "markdown",
      "source": [
        "It is important that we do not delete words like 'not', 'no'. I think that they may contain a critically important semantic sense of the sentence, especially for the Yes/No classification."
      ],
      "metadata": {
        "id": "PBT3IluRbIHW"
      }
    },
    {
      "cell_type": "code",
      "source": [
        "# removing especially rare or common words (like 'a', 'and', etc.)\n",
        "from nltk.corpus import stopwords\n",
        "nltk.download('stopwords')\n",
        "\n",
        "stop = set(stopwords.words('english'))\n",
        "df['passage_stopwords_removed'] = df['passage_tokenized'].apply(lambda x: [word for word in x if word not in stop])\n",
        "df['question_stopwords_removed'] = df['question_tokenized'].apply(lambda x: [word for word in x if word not in stop])"
      ],
      "metadata": {
        "colab": {
          "base_uri": "https://localhost:8080/"
        },
        "id": "FzWDeJtfQJNc",
        "outputId": "345154f8-7725-4849-9989-5668b8c5a947"
      },
      "execution_count": null,
      "outputs": [
        {
          "output_type": "stream",
          "name": "stderr",
          "text": [
            "[nltk_data] Downloading package stopwords to /root/nltk_data...\n",
            "[nltk_data]   Unzipping corpora/stopwords.zip.\n"
          ]
        }
      ]
    },
    {
      "cell_type": "markdown",
      "source": [
        "We are going to use lemmatization. That's thing that makes sentence \"She is watching detective films\" like this \"She be watch detective film\", it works like really smart stemmer finding the true root of the word."
      ],
      "metadata": {
        "id": "MtZofKaBXvd4"
      }
    },
    {
      "cell_type": "code",
      "source": [
        "from nltk.stem import WordNetLemmatizer\n",
        "nltk.download('wordnet')\n",
        "nltk.download('omw-1.4')\n",
        "\n",
        "def lemmatize_word(text):\n",
        "    lemmatizer = WordNetLemmatizer()\n",
        "    lemma = [lemmatizer.lemmatize(word) for word in text]\n",
        "    return lemma"
      ],
      "metadata": {
        "colab": {
          "base_uri": "https://localhost:8080/"
        },
        "id": "lkm8zQgPbwh8",
        "outputId": "ca56dcb4-655a-4cae-9973-a7a5d22e9cf6"
      },
      "execution_count": null,
      "outputs": [
        {
          "output_type": "stream",
          "name": "stderr",
          "text": [
            "[nltk_data] Downloading package wordnet to /root/nltk_data...\n",
            "[nltk_data] Downloading package omw-1.4 to /root/nltk_data...\n"
          ]
        }
      ]
    },
    {
      "cell_type": "code",
      "source": [
        "df['passage_prepared'] = df['passage_stopwords_removed'].apply(lambda x: lemmatize_word(x))\n",
        "df['question_prepared'] = df['question_stopwords_removed'].apply(lambda x: lemmatize_word(x))\n",
        "\n",
        "# it makes sense to throw out the stop words again after the lemmatization\n",
        "df['passage_prepared'] = df['passage_prepared'].apply(lambda x: [word for word in x if word not in stop])\n",
        "df['question_prepared'] = df['question_prepared'].apply(lambda x: [word for word in x if word not in stop])"
      ],
      "metadata": {
        "id": "ooXVMWjjWR38"
      },
      "execution_count": null,
      "outputs": []
    },
    {
      "cell_type": "code",
      "source": [
        "# removing the auxiliary columns\n",
        "df.drop(columns=['question_formated','question_tokenized','question_stopwords_removed',\n",
        "                 'passage_formated','passage_tokenized','passage_stopwords_removed'], inplace=True)"
      ],
      "metadata": {
        "id": "WZrh1jGihEsx"
      },
      "execution_count": null,
      "outputs": []
    },
    {
      "cell_type": "code",
      "source": [
        "# unique words counting\n",
        "voc_size = sum(map(len, map(set, df['passage_prepared']))) + sum(map(len, map(set, df['question_prepared'])))"
      ],
      "metadata": {
        "id": "W3pEIzPBKlQl"
      },
      "execution_count": null,
      "outputs": []
    },
    {
      "cell_type": "markdown",
      "source": [
        "Now we have such text data representation that is most convenient for looking at the statistics."
      ],
      "metadata": {
        "id": "zqHDHle0gc6w"
      }
    },
    {
      "cell_type": "code",
      "source": [
        "print(f'count of unique words: {voc_size}')"
      ],
      "metadata": {
        "colab": {
          "base_uri": "https://localhost:8080/"
        },
        "id": "7j_XgnsQmlYD",
        "outputId": "6f579308-b99c-4540-dd0f-1d0c807235f3"
      },
      "execution_count": null,
      "outputs": [
        {
          "output_type": "stream",
          "name": "stdout",
          "text": [
            "count of unique words: 607965\n"
          ]
        }
      ]
    },
    {
      "cell_type": "code",
      "source": [
        "df['passage_length'] = df['passage_prepared'].apply(len)\n",
        "df['question_length'] = df['question_prepared'].apply(len) "
      ],
      "metadata": {
        "id": "pW2x3Zg93joh"
      },
      "execution_count": null,
      "outputs": []
    },
    {
      "cell_type": "code",
      "source": [
        "mean_p_len = df['passage_length'].mean()\n",
        "mean_q_len = df['question_length'].mean()\n",
        "print(f'mean length of a passage: {mean_p_len: 0.3}')\n",
        "print(f'mean length of a question: {mean_q_len: 0.3}')"
      ],
      "metadata": {
        "colab": {
          "base_uri": "https://localhost:8080/"
        },
        "id": "dPXx6vSJzbmZ",
        "outputId": "76ee3556-1f8a-4951-d5f3-dc9568536ad2"
      },
      "execution_count": null,
      "outputs": [
        {
          "output_type": "stream",
          "name": "stdout",
          "text": [
            "mean length of a passage:  58.0\n",
            "mean length of a question:  4.56\n"
          ]
        }
      ]
    },
    {
      "cell_type": "code",
      "source": [
        "sns.displot(df, x='passage_length', hue='purpose', bins=25);"
      ],
      "metadata": {
        "colab": {
          "base_uri": "https://localhost:8080/",
          "height": 369
        },
        "id": "jtZlivXCqwVH",
        "outputId": "b8479d6d-8b5a-4c16-87e7-19539729cc77"
      },
      "execution_count": null,
      "outputs": [
        {
          "output_type": "display_data",
          "data": {
            "text/plain": [
              "<Figure size 419.375x360 with 1 Axes>"
            ],
            "image/png": "[encoded data removed]"
          },
          "metadata": {
            "needs_background": "light"
          }
        }
      ]
    },
    {
      "cell_type": "markdown",
      "source": [
        "Next we are gonna use the pre-trained embedding to vectorize our text samples."
      ],
      "metadata": {
        "id": "NcmcCnIF-QU6"
      }
    },
    {
      "cell_type": "code",
      "source": [
        "from gensim.models import KeyedVectors\n",
        "\n",
        "# this is the file that was recommended in the task, download link:\n",
        "# https://drive.google.com/file/d/0B7XkCwpI5KDYNlNUTTlSS21pQmM/edit?usp=sharing\n",
        "word2vec_path = './drive/MyDrive/GoogleNews-vectors-negative300.bin'\n",
        "\n",
        "# we only load 200k most common words from Google News corpus \n",
        "word2vec_model = KeyedVectors.load_word2vec_format(word2vec_path, binary=True, limit=200000) "
      ],
      "metadata": {
        "id": "O3TDg8t3nozK"
      },
      "execution_count": null,
      "outputs": []
    },
    {
      "cell_type": "code",
      "source": [
        "# check some pairs of words similarity according to the model\n",
        "words = ('dog', 'cat', 'plane', 'helicopter', 'build', 'make')\n",
        "for i in range(len(words)-1):\n",
        "    sim = word2vec_model.similarity(words[i], words[i+1])\n",
        "    print(f'{sim: 0.3} - \"{words[i]}\" and \"{words[i+1]}\" similarity')"
      ],
      "metadata": {
        "colab": {
          "base_uri": "https://localhost:8080/"
        },
        "id": "wrCobfolBq8r",
        "outputId": "502440a6-0861-487e-f3aa-8ea8005c3e82"
      },
      "execution_count": null,
      "outputs": [
        {
          "output_type": "stream",
          "name": "stdout",
          "text": [
            " 0.761 - \"dog\" and \"cat\" similarity\n",
            " 0.183 - \"cat\" and \"plane\" similarity\n",
            " 0.658 - \"plane\" and \"helicopter\" similarity\n",
            " 0.0512 - \"helicopter\" and \"build\" similarity\n",
            " 0.374 - \"build\" and \"make\" similarity\n"
          ]
        }
      ]
    },
    {
      "cell_type": "code",
      "source": [
        "# dimension of embedding vectors\n",
        "EMBEDDINGS_DIM = 300\n",
        "\n",
        "# calculate average embedding value of sentence from each word vector\n",
        "def get_average_vec(word2vec, text):\n",
        "    if len(text)<1:\n",
        "        return np.zeros(EMBEDDINGS_DIM)\n",
        "    \n",
        "    # if the word is not in the specified number of the most popular words in the vectorizing model, \n",
        "    # then we replace their vectors with zero\n",
        "    vectorized = [word2vec[word] if word in word2vec else np.zeros(EMBEDDINGS_DIM) for word in text]\n",
        "    \n",
        "    text_length = len(vectorized)\n",
        "    summed_vec = np.sum(vectorized, axis=0)\n",
        "    average_vec = np.divide(summed_vec, text_length)\n",
        "    return average_vec"
      ],
      "metadata": {
        "id": "2PsVL5mHLLFW"
      },
      "execution_count": null,
      "outputs": []
    },
    {
      "cell_type": "code",
      "source": [
        "# getting the embeddings\n",
        "df['passage_embeddings'] = df['passage_prepared'].apply(lambda x: get_average_vec(word2vec_model, x))\n",
        "df['question_embeddings'] = df['question_prepared'].apply(lambda x: get_average_vec(word2vec_model, x))\n",
        "\n",
        "# we also vectorize a common bag of words for both: the question and the passage\n",
        "df['common_embeddings'] = df.apply(lambda x: get_average_vec(word2vec_model, x['passage_prepared'] + x['question_prepared']), axis=1)\n",
        "# calculating the common vector in one more way: take the half-sum of the vectors of the question and the passage\n",
        "df['common_embeddings_halfsum'] = df.apply(lambda x: np.divide(np.sum([x['passage_embeddings'], x['question_embeddings']], axis=0), 2), axis=1)"
      ],
      "metadata": {
        "id": "khmZf81MT8Hh"
      },
      "execution_count": null,
      "outputs": []
    },
    {
      "cell_type": "code",
      "source": [
        "print(f'passage_embedding matrix sizes: {df.shape[0]}x{EMBEDDINGS_DIM}\\n')\n",
        "print(f'the sentence\\'s: \"' + ' '.join(df['passage_prepared'][1][:8]) + '... \" embedding values starts as:')\n",
        "print(str(df['passage_embeddings'][1][:5])[:-1], '...')"
      ],
      "metadata": {
        "colab": {
          "base_uri": "https://localhost:8080/"
        },
        "id": "u4M5WmzWLKzs",
        "outputId": "1a041efc-b095-49fb-fd37-430b08966680"
      },
      "execution_count": null,
      "outputs": [
        {
          "output_type": "stream",
          "name": "stdout",
          "text": [
            "passage_embedding matrix sizes: 12697x300\n",
            "\n",
            "the sentence's: \"good samaritan law good samaritan law offer legal... \" embedding values starts as:\n",
            "[ 0.04145772  0.00781158  0.01056681  0.06096476 -0.07122599 ...\n"
          ]
        }
      ]
    },
    {
      "cell_type": "markdown",
      "source": [
        "# Here is an experiment, this was not in the task\n",
        "Just for fun, let's try the hypothesis here that the semantic similarity of the average vectors of the passage and the question will give the answer \"Yes\", and their sufficient difference - \"No\". We will just look at the distance between the vectorized question and the passage, choose some separating alpha, and we will make a prediction."
      ],
      "metadata": {
        "id": "3IIhvxwiXqTE"
      }
    },
    {
      "cell_type": "code",
      "source": [
        "# counting dist\n",
        "df['dist'] = df.apply(lambda x: np.linalg.norm(x['passage_embeddings']-x['question_embeddings']), axis=1)"
      ],
      "metadata": {
        "id": "4We0UBxsXpTG"
      },
      "execution_count": null,
      "outputs": []
    },
    {
      "cell_type": "code",
      "source": [
        "def count_accuracy(data, alpha):\n",
        "    true_pos = data[(data['label'] == True) & (data['dist'] < alpha)].shape[0]\n",
        "    true_neg = data[(data['label'] == False) & (data['dist'] >= alpha)].shape[0]\n",
        "    return (true_pos + true_neg) / data.shape[0]"
      ],
      "metadata": {
        "id": "v1tsu1rreD3a"
      },
      "execution_count": null,
      "outputs": []
    },
    {
      "cell_type": "code",
      "source": [
        "alphas = []\n",
        "accuraces = []\n",
        "for persent in range(900, 1000, 2):\n",
        "    quant = persent / 1000\n",
        "    alpha = df['dist'].quantile(q=quant)\n",
        "    alphas.append(alpha)\n",
        "    accuraces.append(count_accuracy(df, alpha))\n",
        "\n",
        "baseline = df[df['label']].shape[0]/df.shape[0]\n",
        "print(f'max accuracy is {max(accuraces)}')\n",
        "print(f'it\\'s {max(accuraces)-baseline} better then baseline')\n",
        "plt.plot(alphas, accuraces);"
      ],
      "metadata": {
        "colab": {
          "base_uri": "https://localhost:8080/",
          "height": 301
        },
        "id": "AApHDHFJe1JY",
        "outputId": "bbbcac12-a11e-4431-f6a3-d31d52811a2f"
      },
      "execution_count": null,
      "outputs": [
        {
          "output_type": "stream",
          "name": "stdout",
          "text": [
            "max accuracy is 0.624399464440419\n",
            "it's 0.0016539340001575642 better then baseline\n"
          ]
        },
        {
          "output_type": "display_data",
          "data": {
            "text/plain": [
              "<Figure size 432x288 with 1 Axes>"
            ],
            "image/png": "[encoded data removed]"
          },
          "metadata": {
            "needs_background": "light"
          }
        }
      ]
    },
    {
      "cell_type": "markdown",
      "source": [
        "Okay, we got a negligible improvement compared to the classifier, which classifies everything as \"True\". Moreover, we have achieved this with such parameters when our model is almost indistinguishable from the baseline classifier. The hypothesis is completely non-working."
      ],
      "metadata": {
        "id": "Llq9CyhdpT3D"
      }
    },
    {
      "cell_type": "markdown",
      "source": [
        "# 2.2\n",
        "\n",
        "\n",
        "\n"
      ],
      "metadata": {
        "id": "7VTjp-aNUVsg"
      }
    },
    {
      "cell_type": "markdown",
      "source": [
        "There was said: \"Models on this dataset need to predict an output\n",
        "class given two pieces of input text, which is\n",
        "a well studied paradigm\" - in the [article](https://arxiv.org/pdf/1905.10044.pdf). However, I could not find good ways to use several sentences as an input of a simple classifier (except for BERT, but this is the next task). In the same article, the authors say that this method, at best, gave an increase of 9% to 62% of the baseline. So I don't have high hopes for this method."
      ],
      "metadata": {
        "id": "AjFuzw485DRq"
      }
    },
    {
      "cell_type": "code",
      "source": [
        "drop_cols = ['purpose', 'dist', 'question_length', 'passage_length', 'question_embeddings', 'passage_embeddings']\n",
        "train_df = df[df['purpose'] == 'train'].drop(columns=drop_cols)\n",
        "val_df = df[df['purpose'] == 'val'].drop(columns=drop_cols)"
      ],
      "metadata": {
        "id": "NYS7RJ8aRw5s"
      },
      "execution_count": null,
      "outputs": []
    },
    {
      "cell_type": "code",
      "source": [
        "from sklearn.linear_model import LogisticRegression\n",
        "\n",
        "log_reg = LogisticRegression()\n",
        "log_reg.fit(train_df['common_embeddings'].tolist(), train_df['label'].tolist())\n",
        "train_pred = log_reg.predict(train_df['common_embeddings'].tolist())"
      ],
      "metadata": {
        "id": "bGactk0LaJhN"
      },
      "execution_count": null,
      "outputs": []
    },
    {
      "cell_type": "code",
      "source": [
        "# this cell needs several minutes to work\n",
        "from sklearn.discriminant_analysis import LinearDiscriminantAnalysis\n",
        "from sklearn.linear_model import LogisticRegression\n",
        "from sklearn.tree import DecisionTreeClassifier\n",
        "from sklearn.naive_bayes import GaussianNB\n",
        "from sklearn.neighbors import KNeighborsClassifier\n",
        "from sklearn.svm import SVC\n",
        "from sklearn import metrics\n",
        "\n",
        "# compared models\n",
        "models = {'LinearDiscriminantAnalysis': LinearDiscriminantAnalysis(), \n",
        "          'LogisticRegression': LogisticRegression(),\n",
        "          'DecisionTreeClassifier': DecisionTreeClassifier(),\n",
        "          'GaussianNB': GaussianNB(),\n",
        "          'KNeighborsClassifier': KNeighborsClassifier(), \n",
        "          'C-SVM': SVC(random_state=42)}\n",
        "\n",
        "# compared types of embedding vectors using as input for models\n",
        "data_types = {'common bag': (train_df['common_embeddings'].tolist(), \n",
        "                             val_df['common_embeddings'].tolist()), \n",
        "              'halfsum bag': (train_df['common_embeddings_halfsum'].tolist(), \n",
        "                                     val_df['common_embeddings_halfsum'].tolist())}\n",
        "\n",
        "# true labels\n",
        "train_y = train_df['label'].tolist()\n",
        "val_y = val_df['label'].tolist()\n",
        "\n",
        "print(f' train_acc \\t val_acc \\tdata_type\\tmodel')\n",
        "print(f'{base_train: .6}\\t{base_val: .6}\\t\\t\\tbaseline')\n",
        "\n",
        "for model_name, cur_model in models.items():\n",
        "    for data_type, data in data_types.items():\n",
        "        # using iterators\n",
        "        train_X = data[0]\n",
        "        val_X = data[1]\n",
        "        model = cur_model \n",
        "        \n",
        "        # training \n",
        "        model.fit(train_X, train_y)\n",
        "\n",
        "        # predicting\n",
        "        train_predicted = model.predict(train_X)\n",
        "        val_predicted = model.predict(val_X)\n",
        "        \n",
        "        # evaluating\n",
        "        train_accuracy = metrics.accuracy_score(train_y, train_predicted)\n",
        "        val_accuracy = metrics.accuracy_score(val_y, val_predicted)\n",
        "\n",
        "        print(f'{train_accuracy: .6}\\t{val_accuracy: .6}\\t{data_type}\\t{model_name}')"
      ],
      "metadata": {
        "colab": {
          "base_uri": "https://localhost:8080/"
        },
        "id": "WkN5C9ZYA-dz",
        "outputId": "96f30dd4-55d1-4ecc-fb25-fd0a12ba829e"
      },
      "execution_count": null,
      "outputs": [
        {
          "output_type": "stream",
          "name": "stdout",
          "text": [
            " train_acc \t val_acc \tdata_type\tmodel\n",
            " 0.623104\t 0.621713\t\t\tbaseline\n",
            " 0.659277\t 0.625382\tcommon bag\tLinearDiscriminantAnalysis\n",
            " 0.642304\t 0.612538\thalfsum bag\tLinearDiscriminantAnalysis\n",
            " 0.652063\t 0.623853\tcommon bag\tLogisticRegression\n",
            " 0.642728\t 0.619878\thalfsum bag\tLogisticRegression\n",
            " 0.998515\t 0.600306\tcommon bag\tDecisionTreeClassifier\n",
            " 0.998515\t 0.578899\thalfsum bag\tDecisionTreeClassifier\n",
            " 0.584704\t 0.55841\tcommon bag\tGaussianNB\n",
            " 0.576005\t 0.550153\thalfsum bag\tGaussianNB\n",
            " 0.743821\t 0.606422\tcommon bag\tKNeighborsClassifier\n",
            " 0.756126\t 0.61682\thalfsum bag\tKNeighborsClassifier\n",
            " 0.707224\t 0.643119\tcommon bag\tC-SVM\n",
            " 0.723454\t 0.637003\thalfsum bag\tC-SVM\n"
          ]
        }
      ]
    },
    {
      "cell_type": "markdown",
      "source": [
        "Obviously, the second way of forming common embeddings with the same weights for the question and the passage proved to be worse. To further improve the results, we will take only the best model and embeddings type.\n",
        "\n",
        "This method of input into the model is very inefficient. Even accounting the fact that we didn't select the optimal parameters, it is very bad that only one of models was better then the baseline by an integer number of percent and most ones were even worse."
      ],
      "metadata": {
        "id": "12FGyokXYiTy"
      }
    },
    {
      "cell_type": "code",
      "source": [
        "# I don't recomment to run real calculations here, since they were long (fitting one model took about several minutes)\n",
        "# ready result would be in the next cell\n",
        "\n",
        "train_X = train_df['common_embeddings'].tolist()\n",
        "val_X = val_df['common_embeddings'].tolist()\n",
        "train_y = train_df['label'].tolist()\n",
        "val_y = val_df['label'].tolist()\n",
        "\n",
        "# in real here was a long list of coeffisients, but not set()\n",
        "for coeff in set():\n",
        "    # training \n",
        "    model = SVC(C=coeff, random_state=42)\n",
        "    model.fit(train_X, train_y)\n",
        "\n",
        "    # predicting\n",
        "    train_predicted = model.predict(train_X)\n",
        "    val_predicted = model.predict(val_X)\n",
        "    \n",
        "    # evaluating\n",
        "    train_accuracy = metrics.accuracy_score(train_y, train_predicted)\n",
        "    val_accuracy = metrics.accuracy_score(val_y, val_predicted)"
      ],
      "metadata": {
        "id": "qklh666ThM3I"
      },
      "execution_count": null,
      "outputs": []
    },
    {
      "cell_type": "code",
      "source": [
        "# paramater C optimisation results for C-SVM model in dict format {<C> : (<train_accuracy>, <val_accuracy>)}\n",
        "opt_results = \\\n",
        "{0.98: (0.705315, 0.641284),\n",
        " 0.985: (0.705315, 0.641896),\n",
        " 0.99: (0.705739, 0.641896),\n",
        " 0.995: (0.706269, 0.642202),\n",
        " 1.0: (0.707224, 0.643119),\n",
        " 1.005: (0.707966, 0.643731),\n",
        " 1.01: (0.708603, 0.644343),\n",
        " 1.015: (0.709664, 0.644343),\n",
        " 1.02: (0.710725, 0.644343),\n",
        " 1.025: (0.711149, 0.644037),\n",
        " 1.03: (0.711679, 0.644037),\n",
        " 1.035: (0.711997, 0.643731),\n",
        " 1.04: (0.712634, 0.643425),\n",
        " 1.05: (0.714225, 0.643425),\n",
        " 1.06: (0.71518, 0.643119),\n",
        " 1.07: (0.716028, 0.643119),\n",
        " 1.08: (0.71762, 0.643119),\n",
        " 1.09: (0.719423, 0.642813),\n",
        " 1.1: (0.720272, 0.642813),\n",
        " 1.11: (0.721757, 0.643731),\n",
        " 1.12: (0.722817, 0.644954),\n",
        " 1.13: (0.723454, 0.644648),\n",
        " 1.14: (0.724833, 0.644037),\n",
        " 1.15: (0.726, 0.643731),\n",
        " 1.16: (0.726636, 0.643731),\n",
        " 1.17: (0.727485, 0.643731),\n",
        " 1.18: (0.728546, 0.643731),\n",
        " 1.19: (0.729076, 0.644037),\n",
        " 1.2: (0.730667, 0.644648),\n",
        " 1.21: (0.732152, 0.644648),\n",
        " 1.22: (0.733107, 0.644037),\n",
        " 1.23: (0.734062, 0.644037),\n",
        " 1.24: (0.735123, 0.643119),\n",
        " 1.25: (0.735971, 0.643425),\n",
        " 1.26: (0.736395, 0.643119),\n",
        " 1.27: (0.737244, 0.643425),\n",
        " 1.28: (0.737881, 0.643731),\n",
        " 1.29: (0.738729, 0.644648),\n",
        " 1.3: (0.73979, 0.644343),\n",
        " 1.35: (0.74467, 0.647401),\n",
        " 1.4: (0.748701, 0.646483),\n",
        " 1.45: (0.752519, 0.647095),\n",
        " 1.5: (0.755171, 0.648012),\n",
        " 1.55: (0.759945, 0.648012),\n",
        " 1.6: (0.762385, 0.64893),\n",
        " 1.65: (0.76631, 0.648012),\n",
        " 1.7: (0.769598, 0.648318),\n",
        " 1.75: (0.772886, 0.648318),\n",
        " 1.8: (0.775432, 0.646177),\n",
        " 1.85: (0.778933, 0.645872),\n",
        " 1.9: (0.782221, 0.64526),\n",
        " 1.95: (0.784555, 0.64526),\n",
        " 2.0: (0.786889, 0.644954),\n",
        " 2.05: (0.789859, 0.644648),\n",
        " 2.1: (0.79145, 0.64526),\n",
        " 2.15: (0.793678, 0.645566),\n",
        " 2.2: (0.798133, 0.64526),\n",
        " 2.25: (0.800785, 0.646483),\n",
        " 2.3: (0.803013, 0.646483),\n",
        " 2.35: (0.805346, 0.647706),\n",
        " 2.4: (0.807892, 0.646789),\n",
        " 2.45: (0.809696, 0.646789),\n",
        " 2.5: (0.811817, 0.646789),\n",
        " 2.55: (0.813408, 0.647095),\n",
        " 2.6: (0.815424, 0.646483),\n",
        " 2.65: (0.817439, 0.647401),\n",
        " 2.7: (0.81903, 0.648012),\n",
        " 2.75: (0.82094, 0.647401),\n",
        " 2.8: (0.822319, 0.648624),\n",
        " 2.85: (0.823804, 0.649235),\n",
        " 2.9: (0.824971, 0.649541),\n",
        " 2.95: (0.825926, 0.649235),\n",
        " 3.0: (0.827305, 0.648624),\n",
        " 3.05: (0.828153, 0.648318),\n",
        " 3.1: (0.829744, 0.648318),\n",
        " 3.15: (0.832184, 0.649235),\n",
        " 3.2: (0.833245, 0.650153),\n",
        " 3.25: (0.834306, 0.650765),\n",
        " 3.3: (0.835473, 0.651376),\n",
        " 3.35: (0.836639, 0.649847),\n",
        " 3.4: (0.8377, 0.649235),\n",
        " 3.45: (0.83961, 0.649541),\n",
        " 3.5: (0.840564, 0.650765),\n",
        " 3.55: (0.842049, 0.651988),\n",
        " 3.6: (0.84311, 0.651376),\n",
        " 3.65: (0.843959, 0.650765),\n",
        " 3.7: (0.844807, 0.649847),\n",
        " 3.75: (0.845656, 0.650459),\n",
        " 3.8: (0.847141, 0.650153),\n",
        " 3.85: (0.848626, 0.650153),\n",
        " 4.0: (0.852127, 0.649235),\n",
        " 4.5: (0.861144, 0.64526),\n",
        " 5.0: (0.870797, 0.642508),\n",
        " 5.5: (0.881298, 0.640979),\n",
        " 6.0: (0.888512, 0.63945),\n",
        " 6.5: (0.896149, 0.638838),\n",
        " 7.0: (0.90262, 0.642202),\n",
        " 7.5: (0.906757, 0.643119),\n",
        " 8.0: (0.910894, 0.643425),\n",
        " 8.5: (0.914289, 0.639755)}"
      ],
      "metadata": {
        "id": "v9g8Mzz6Nv33"
      },
      "execution_count": null,
      "outputs": []
    },
    {
      "cell_type": "code",
      "source": [
        "coeffs = sorted(opt_results.keys())\n",
        "train_accuracies = [opt_results[c][0] for c in coeffs]\n",
        "val_accuracies = [opt_results[c][1] for c in coeffs]\n",
        "\n",
        "print(f'max accuracy is {max(val_accuracies): .4}')\n",
        "print(f'it\\'s {(max(val_accuracies) - base_val)*100: .4}% better then baseline')\n",
        "\n",
        "plt.ylim([.5,.95])\n",
        "plt.plot(coeffs, train_accuracies, label='train_acc')\n",
        "plt.plot(coeffs, val_accuracies, label='val_acc')\n",
        "plt.plot([min(coeffs),max(coeffs)],[base_val, base_val],'--', label='base_val')\n",
        "plt.plot\n",
        "plt.legend()\n",
        "plt.show()"
      ],
      "metadata": {
        "colab": {
          "base_uri": "https://localhost:8080/",
          "height": 305
        },
        "id": "gMzcc1oNQ2z8",
        "outputId": "070373b2-79a4-4160-ff29-34dc02a5f551"
      },
      "execution_count": null,
      "outputs": [
        {
          "output_type": "stream",
          "name": "stdout",
          "text": [
            "max accuracy is  0.652\n",
            "it's  3.028% better then baseline\n"
          ]
        },
        {
          "output_type": "display_data",
          "data": {
            "text/plain": [
              "<Figure size 432x288 with 1 Axes>"
            ],
            "image/png": "[encoded data removed]"
          },
          "metadata": {
            "needs_background": "light"
          }
        }
      ]
    }
  ]
}